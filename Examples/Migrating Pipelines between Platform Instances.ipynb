{
 "cells": [
  {
   "cell_type": "markdown",
   "id": "8b97ef7b",
   "metadata": {},
   "source": [
    "# Migrating Pipelines between Platform Instances\n",
    "\n",
    "Demonstrating how to get all the pipeline configuration details from a source organization and then create a new set of pipelines in a new organization.\n",
    "\n",
    "Note: pipelines use a protocol (which uses task-scripts). the protocols of migrated pipelines need to be accessible in the destination org."
   ]
  },
  {
   "cell_type": "markdown",
   "id": "deaec127",
   "metadata": {},
   "source": [
    "## Import Statements"
   ]
  },
  {
   "cell_type": "code",
   "execution_count": null,
   "id": "3ff0d707",
   "metadata": {},
   "outputs": [],
   "source": [
    "import os\n",
    "import json\n",
    "import requests"
   ]
  },
  {
   "cell_type": "markdown",
   "id": "1d177a0f",
   "metadata": {},
   "source": [
    "## Notebook Parameters\n",
    "* SAVE_DIR = directory on your local machine\n",
    "\n",
    "### Source Platform\n",
    "* FILENAME_SOURCE = name for the authentication file, e.g. auth-dev.json\n",
    "* API_URL_SOURCE = API URL for your TDP instance, e.g. https://api.tetrascience-dev.com/v1/\n",
    "* AUTH_TOKEN_SOURCE = personal access token for TDP, or token of Service User\n",
    "* TDP_ORG_SOURCE = organization slug for configuration report\n",
    "\n",
    "### Destination Platform\n",
    "* FILENAME_DEST = name for the authentication file, e.g. auth-prod.json\n",
    "* API_URL_DEST = API URL for your TDP instance, e.g. https://api.tetrascience.com/v1/\n",
    "* AUTH_TOKEN_DEST = personal access token for TDP, or token of Service User\n",
    "* TDP_ORG_DEST = organization slug for configuration report"
   ]
  },
  {
   "cell_type": "code",
   "execution_count": null,
   "id": "2eb6ad2a",
   "metadata": {},
   "outputs": [],
   "source": [
    "SAVE_DIR = \"./\"\n",
    "\n",
    "FILENAME_SOURCE = \"auth-dev.json\"\n",
    "API_URL_SOURCE = \"https://api.tetrascience-dev.com/v1/\"\n",
    "AUTH_TOKEN_SOURCE = \"\"\n",
    "TDP_ORG_SOURCE = \"\"\n",
    "\n",
    "FILENAME_DEST = \"auth-prod.json\"\n",
    "API_URL_DEST = \"https://api.tetrascience.com/v1/\"\n",
    "AUTH_TOKEN_DEST = \"\"\n",
    "TDP_ORG_DEST = \"\""
   ]
  },
  {
   "cell_type": "markdown",
   "id": "fccc4e19",
   "metadata": {},
   "source": [
    "## Create Authentication Files\n",
    "\n",
    "This uses the notebook parameters to create authentication file, as outlined on documentation site for setting up your development environment: [Development Setup](https://developers.tetrascience.com/docs/set-up-your-environment-and-initialize-ts-sdk#set-up-the-environment)\n",
    "\n",
    "This authentication file can also be used with our ts-sdk to deploy custom pipelines."
   ]
  },
  {
   "cell_type": "code",
   "execution_count": null,
   "id": "2e1d118e",
   "metadata": {},
   "outputs": [],
   "source": [
    "def create_authentication_file(filename, save_directory, api_url, auth_token, tdp_org, ignore_ssl=False):\n",
    "    auth_json_path = os.path.join(save_directory, filename)\n",
    "    if ignore_ssl:\n",
    "        ssl = \"true\"\n",
    "    else:\n",
    "        ssl = \"false\"\n",
    "    with open(auth_json_path, \"w\") as f:\n",
    "        auth_json = {\"api_url\": api_url,\n",
    "                     \"auth_token\": auth_token,\n",
    "                     \"org\": tdp_org,\n",
    "                     \"ignore_ssl\": ssl}\n",
    "        json.dump(auth_json, f, indent = 4)"
   ]
  },
  {
   "cell_type": "code",
   "execution_count": null,
   "id": "caa25482",
   "metadata": {},
   "outputs": [],
   "source": [
    "create_authentication_file(FILENAME_SOURCE, SAVE_DIR, API_URL_SOURCE, AUTH_TOKEN_SOURCE, TDP_ORG_SOURCE)"
   ]
  },
  {
   "cell_type": "code",
   "execution_count": null,
   "id": "d134f6a3",
   "metadata": {},
   "outputs": [],
   "source": [
    "create_authentication_file(FILENAME_DEST, SAVE_DIR, API_URL_DEST, AUTH_TOKEN_DEST, TDP_ORG_DEST)"
   ]
  },
  {
   "cell_type": "markdown",
   "id": "e8d85960",
   "metadata": {},
   "source": [
    "## Use Authentication Files for API Headers"
   ]
  },
  {
   "cell_type": "code",
   "execution_count": null,
   "id": "a4a3f426",
   "metadata": {},
   "outputs": [],
   "source": [
    "with open(os.path.join(SAVE_DIR, FILENAME_SOURCE), \"r\") as f:\n",
    "    auth_data_source = json.loads(f.read())\n",
    "\n",
    "headers_source = {\"ts-auth-token\": auth_data_source[\"auth_token\"],\n",
    "               \"x-org-slug\": auth_data_source[\"org\"]}"
   ]
  },
  {
   "cell_type": "code",
   "execution_count": null,
   "id": "1f8d6fbb",
   "metadata": {},
   "outputs": [],
   "source": [
    "with open(os.path.join(SAVE_DIR, FILENAME_DEST), \"r\") as f:\n",
    "    auth_data_dest = json.loads(f.read())\n",
    "\n",
    "headers_dest = {\"ts-auth-token\": auth_data_dest[\"auth_token\"],\n",
    "               \"x-org-slug\": auth_data_dest[\"org\"],\n",
    "               'Content-Type': 'application/json'}  # Sending pipeline details (json) to destination"
   ]
  },
  {
   "cell_type": "code",
   "execution_count": null,
   "id": "e2778596",
   "metadata": {},
   "outputs": [],
   "source": [
    "API_URL_SOURCE"
   ]
  },
  {
   "cell_type": "markdown",
   "id": "e9005084",
   "metadata": {},
   "source": [
    "## API Endpoints"
   ]
  },
  {
   "cell_type": "code",
   "execution_count": null,
   "id": "a64e1508",
   "metadata": {},
   "outputs": [],
   "source": [
    "API_URL_SOURCE = auth_data_source[\"api_url\"]\n",
    "API_URL_DEST = auth_data_dest[\"api_url\"]\n",
    "PIPELINE_SEARCH = API_URL_SOURCE + \"pipeline/search\"\n",
    "PIPELINE_CREATION = API_URL_DEST + \"pipeline/create\""
   ]
  },
  {
   "cell_type": "markdown",
   "id": "9388198e",
   "metadata": {},
   "source": [
    "## Get all pipelines from source\n",
    "\n",
    "Note: this only gets all enabled pipelines"
   ]
  },
  {
   "cell_type": "code",
   "execution_count": null,
   "id": "ce63fb18",
   "metadata": {},
   "outputs": [],
   "source": [
    "def get_pipeline_page(headers, **kwargs):\n",
    "    \"\"\"\n",
    "        Returns a set of pipelines and whether there are more \n",
    "        pipelines remaining\n",
    "        Optional args: page_size, page_index\n",
    "    \"\"\"\n",
    "    pipeline_api = PIPELINE_SEARCH + \"?\"\n",
    "    if \"index\" in kwargs.keys():\n",
    "        page_index = kwargs[\"index\"]\n",
    "        pipeline_api += \"from=\" + str(page_index) + \"&\"\n",
    "    if \"size\" in kwargs.keys():\n",
    "        page_size = kwargs[\"size\"]\n",
    "        pipeline_api += \"size=\" + str(page_size) + \"&\"\n",
    "    pipeline_api += \"pipelineStatus=enabled\"\n",
    "\n",
    "    pipeline_response = requests.get(pipeline_api, headers=headers)\n",
    "    pipeline_response = json.loads(pipeline_response.text)\n",
    "    \n",
    "    return pipeline_response[\"hits\"], pipeline_response[\"hasNext\"]"
   ]
  },
  {
   "cell_type": "code",
   "execution_count": null,
   "id": "9e9ac7fb",
   "metadata": {},
   "outputs": [],
   "source": [
    "def get_all_pipelines(headers, size=10):\n",
    "    \"\"\"\n",
    "        Returns list of all pipelines by iterating over full list\n",
    "        by the size parameter.\n",
    "    \"\"\"\n",
    "    hasNext = True\n",
    "    index = 0\n",
    "    all_pipelines = []\n",
    "    while hasNext == True:\n",
    "        pipes, hasNext = get_pipeline_page(headers, size=size, index=index)\n",
    "        all_pipelines += pipes\n",
    "        index += 1\n",
    "    return all_pipelines"
   ]
  },
  {
   "cell_type": "code",
   "execution_count": null,
   "id": "d60bebe7",
   "metadata": {},
   "outputs": [],
   "source": [
    "source_pipelines = get_all_pipelines(headers_source)"
   ]
  },
  {
   "cell_type": "code",
   "execution_count": null,
   "id": "ea1b87f9",
   "metadata": {},
   "outputs": [],
   "source": [
    "source_pipelines"
   ]
  },
  {
   "cell_type": "markdown",
   "id": "1b1e8cad",
   "metadata": {},
   "source": [
    "## Create all pipelines in destination"
   ]
  },
  {
   "cell_type": "code",
   "execution_count": null,
   "id": "0af474a2",
   "metadata": {},
   "outputs": [],
   "source": [
    "type(source_pipelines[0])"
   ]
  },
  {
   "cell_type": "code",
   "execution_count": null,
   "id": "1d106713",
   "metadata": {},
   "outputs": [],
   "source": [
    "def create_all_pipelines(headers, pipelines):\n",
    "    \"\"\"\n",
    "        Creates pipelines from a list of pipelines in provided org.\n",
    "        For each pipeline, it will also print out the API call message.\n",
    "    \"\"\"\n",
    "    for pipeline in pipelines:\n",
    "        print(\"Copying %s\" %pipeline[\"name\"])\n",
    "        payload = json.dumps(pipeline)\n",
    "        api_call = requests.post(PIPELINE_CREATION, headers=headers, data=payload)\n",
    "        print(api_call.text)"
   ]
  },
  {
   "cell_type": "code",
   "execution_count": null,
   "id": "8bc65010",
   "metadata": {},
   "outputs": [],
   "source": [
    "create_all_pipelines(headers_dest, source_pipelines)"
   ]
  }
 ],
 "metadata": {
  "kernelspec": {
   "display_name": "Python 3 (ipykernel)",
   "language": "python",
   "name": "python3"
  },
  "language_info": {
   "codemirror_mode": {
    "name": "ipython",
    "version": 3
   },
   "file_extension": ".py",
   "mimetype": "text/x-python",
   "name": "python",
   "nbconvert_exporter": "python",
   "pygments_lexer": "ipython3",
   "version": "3.11.2"
  }
 },
 "nbformat": 4,
 "nbformat_minor": 5
}
