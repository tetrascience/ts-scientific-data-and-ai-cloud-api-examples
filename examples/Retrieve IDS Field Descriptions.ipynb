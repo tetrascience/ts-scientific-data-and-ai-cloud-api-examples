{
 "cells": [
  {
   "cell_type": "code",
   "execution_count": null,
   "id": "c44c8980",
   "metadata": {},
   "outputs": [],
   "source": [
    "import os\n",
    "import json\n",
    "import requests\n",
    "import pprint\n",
    "import pandas as pd"
   ]
  },
  {
   "cell_type": "code",
   "execution_count": null,
   "id": "445351be",
   "metadata": {},
   "outputs": [],
   "source": [
    "SAVE_DIR = \".\"\n",
    "AUTH_FILENAME = \"auth.json\"\n",
    "EXAMPLE_API = \"https://api.tetrascience-uat.com/v1/datalake/schemas?type=lcuv-empower&version=v15.0.0&fields=schema\""
   ]
  },
  {
   "cell_type": "code",
   "execution_count": null,
   "id": "4184b7d5",
   "metadata": {},
   "outputs": [],
   "source": [
    "with open(os.path.join(SAVE_DIR, AUTH_FILENAME), \"r\") as f:\n",
    "    auth_data = json.loads(f.read())\n",
    "\n",
    "headers = {\"ts-auth-token\": auth_data[\"auth_token\"],\n",
    "           \"x-org-slug\": auth_data[\"org\"]}"
   ]
  },
  {
   "cell_type": "code",
   "execution_count": null,
   "id": "ac2858d9",
   "metadata": {},
   "outputs": [],
   "source": [
    "example_response = requests.get(EXAMPLE_API, headers=headers)"
   ]
  },
  {
   "cell_type": "code",
   "execution_count": null,
   "id": "118e0ab9",
   "metadata": {},
   "outputs": [],
   "source": [
    "ids_json = json.loads(example_response.text)[0]['schema']"
   ]
  },
  {
   "cell_type": "code",
   "execution_count": null,
   "id": "b64b483c",
   "metadata": {},
   "outputs": [],
   "source": [
    "pprint.pprint(ids_json)"
   ]
  },
  {
   "cell_type": "code",
   "execution_count": null,
   "id": "a5cd4c59",
   "metadata": {},
   "outputs": [],
   "source": [
    "ids_json.keys()"
   ]
  },
  {
   "cell_type": "code",
   "execution_count": null,
   "id": "04aae6f1",
   "metadata": {},
   "outputs": [],
   "source": [
    "parsed_items = []\n",
    "def parse_json(json,parents,n):\n",
    "    for k, v in json.items():\n",
    "        if isinstance(v, dict):\n",
    "            parse_json(v,parents+\".\"+k, n+1)\n",
    "        else:\n",
    "            if k==\"description\":\n",
    "                parsed_items.append([parents,v])"
   ]
  },
  {
   "cell_type": "code",
   "execution_count": null,
   "id": "5c91ab7b",
   "metadata": {},
   "outputs": [],
   "source": [
    "parse_json(ids_json[\"definitions\"], \"definitions\", 0)"
   ]
  },
  {
   "cell_type": "code",
   "execution_count": null,
   "id": "0018b2aa",
   "metadata": {},
   "outputs": [],
   "source": [
    "print(parsed_items)"
   ]
  },
  {
   "cell_type": "code",
   "execution_count": null,
   "id": "41671b26",
   "metadata": {},
   "outputs": [],
   "source": [
    "df = pd.DataFrame(parsed_items, columns = ['Field', 'Description']) "
   ]
  },
  {
   "cell_type": "code",
   "execution_count": null,
   "id": "65bbd1e9",
   "metadata": {},
   "outputs": [],
   "source": [
    "df.head()"
   ]
  }
 ],
 "metadata": {
  "kernelspec": {
   "display_name": "Python 3 (ipykernel)",
   "language": "python",
   "name": "python3"
  },
  "language_info": {
   "codemirror_mode": {
    "name": "ipython",
    "version": 3
   },
   "file_extension": ".py",
   "mimetype": "text/x-python",
   "name": "python",
   "nbconvert_exporter": "python",
   "pygments_lexer": "ipython3",
   "version": "3.11.2"
  }
 },
 "nbformat": 4,
 "nbformat_minor": 5
}
