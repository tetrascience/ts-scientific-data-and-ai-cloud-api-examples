{
 "cells": [
  {
   "cell_type": "markdown",
   "id": "6f3f08d9",
   "metadata": {},
   "source": [
    "# Find Pipelines with Available Updates\n",
    "\n",
    "This script will walk you through the API calls needed to determine which pipelines, configured in a given TDP Org, have a protocol with a newver artifact version available for use.\n",
    "\n",
    "This script uses the following python modules\n",
    "\n",
    "- `requests` - for handling TDP API calls\n",
    "- `pandas` - for data processing"
   ]
  },
  {
   "cell_type": "code",
   "execution_count": 1,
   "id": "501cdf55",
   "metadata": {},
   "outputs": [],
   "source": [
    "import json\n",
    "\n",
    "import requests\n",
    "import pandas as pd"
   ]
  },
  {
   "cell_type": "markdown",
   "id": "87e98663",
   "metadata": {},
   "source": [
    "### Create the authorization object\n",
    "\n",
    "This `auth` object is used to handle authorization for requests.  It is required for (and common to) any API usage in TDP. Therefore it is commonly recommended to save this as a `.json` file for future use."
   ]
  },
  {
   "cell_type": "code",
   "execution_count": 2,
   "id": "ed3da3ae",
   "metadata": {},
   "outputs": [],
   "source": [
    "auth = {\n",
    "    \"api_url\": \"https://api.tetrascience.com/v1/\",\n",
    "    \"auth_token\": \"\",\n",
    "    \"org\": \"tetrascience\",\n",
    "    \"verify_ssl\": True,\n",
    "}"
   ]
  },
  {
   "cell_type": "code",
   "execution_count": 3,
   "id": "64ac559d",
   "metadata": {},
   "outputs": [],
   "source": [
    "headers = {\n",
    "    \"ts-auth-token\": auth[\"auth_token\"],\n",
    "    \"x-org-slug\": auth[\"org\"],\n",
    "}"
   ]
  },
  {
   "cell_type": "code",
   "execution_count": 4,
   "id": "f1211897",
   "metadata": {},
   "outputs": [],
   "source": [
    "pipelines_endpoint = \"pipeline/search\"\n",
    "url = auth[\"api_url\"] + pipelines_endpoint"
   ]
  },
  {
   "cell_type": "markdown",
   "id": "bc52905f",
   "metadata": {},
   "source": [
    "#### Suppress Warnings\n",
    "\n",
    "If SSL verificaiton is contraindicated for the TDP environment, the below loop can get very noisy without suppressing warnings."
   ]
  },
  {
   "cell_type": "code",
   "execution_count": 5,
   "id": "c8795027",
   "metadata": {},
   "outputs": [],
   "source": [
    "# Suppresss HTTPS Verification warnings\n",
    "requests.packages.urllib3.disable_warnings()"
   ]
  },
  {
   "cell_type": "markdown",
   "id": "493c0128",
   "metadata": {},
   "source": [
    "### Get information for all piplines via Loop\n",
    "\n",
    "The piplines enpoint returns only 10 pipelines at a time.  We'll use the returned `\"hasNext\"` and `\"from\"` values to loop through the pages of results and capture the information on all the pipelines."
   ]
  },
  {
   "cell_type": "code",
   "execution_count": 6,
   "id": "58f0f6e5",
   "metadata": {},
   "outputs": [
    {
     "data": {
      "text/plain": [
       "65"
      ]
     },
     "execution_count": 6,
     "metadata": {},
     "output_type": "execute_result"
    }
   ],
   "source": [
    "hits = []\n",
    "\n",
    "r = {\n",
    "    \"hasNext\": True,\n",
    "    \"from\": 0,\n",
    "}\n",
    "\n",
    "\n",
    "while r[\"hasNext\"]:\n",
    "    \n",
    "    r = requests.get(\n",
    "        url,\n",
    "        params={\"from\": r[\"from\"]},\n",
    "        headers=headers,\n",
    "        verify=auth[\"verify_ssl\"]\n",
    "    ).json()\n",
    "    \n",
    "    hits += r[\"hits\"]\n",
    "    \n",
    "len(hits)"
   ]
  },
  {
   "cell_type": "markdown",
   "id": "1cfeef7c",
   "metadata": {},
   "source": [
    "### Subest on relevant info\n",
    "\n",
    "The Pipelines enpoint returns a lot of information. We'll subset to only get the info we need.\n",
    "\n",
    "- `id` - Useful for future API calls to manage the pipeline\n",
    "- `name` - The name assigned to the pipeline when it was created\n",
    "- `masterScriptNamespace` - `common`, `client` or `private` depending on how the protocol was deployed\n",
    "- `masterScriptSlug` - The internal unique name for the protocol\n",
    "- `masterScriptVersion` - The version we can compare to the latest versions\n",
    "- `updatedAt` - The last time this pipeline was updated/managed\n",
    "- `status` - `null` = enabled, `\"disabled\"` = disabled\n",
    "    - We'll fill in these `null` values with `\"enabled\"` to make the status explicit\n",
    "\n",
    "We'll also rename some of these columns to:\n",
    "\n",
    "1. Better reflect their function (masterScript is an old nanme for protocol)\n",
    "2. Avoid confusion with artifact information we'll be extracting next"
   ]
  },
  {
   "cell_type": "code",
   "execution_count": 7,
   "id": "7688bfd0",
   "metadata": {},
   "outputs": [],
   "source": [
    "PIPELINE_FIELDS = [\n",
    "    \"id\",\n",
    "    \"name\",\n",
    "    \"masterScriptNamespace\",\n",
    "    \"masterScriptSlug\",\n",
    "    \"masterScriptVersion\",\n",
    "    \"updatedAt\",\n",
    "    \"status\",\n",
    "]\n",
    "\n",
    "RENAME_FIELDS = {\n",
    "    \"name\": \"pipelineName\",\n",
    "    \"masterScriptNamespace\": \"namespace\",\n",
    "    \"masterScriptSlug\": \"slug\",\n",
    "    \"masterScriptVersion\": \"version\",\n",
    "    \"updatedAt\": \"pipelineLastUpdate\",\n",
    "}"
   ]
  },
  {
   "cell_type": "code",
   "execution_count": 8,
   "id": "1711ed93",
   "metadata": {},
   "outputs": [
    {
     "data": {
      "text/html": [
       "<div>\n",
       "<style scoped>\n",
       "    .dataframe tbody tr th:only-of-type {\n",
       "        vertical-align: middle;\n",
       "    }\n",
       "\n",
       "    .dataframe tbody tr th {\n",
       "        vertical-align: top;\n",
       "    }\n",
       "\n",
       "    .dataframe thead th {\n",
       "        text-align: right;\n",
       "    }\n",
       "</style>\n",
       "<table border=\"1\" class=\"dataframe\">\n",
       "  <thead>\n",
       "    <tr style=\"text-align: right;\">\n",
       "      <th></th>\n",
       "      <th>id</th>\n",
       "      <th>pipelineName</th>\n",
       "      <th>namespace</th>\n",
       "      <th>slug</th>\n",
       "      <th>version</th>\n",
       "      <th>pipelineLastUpdate</th>\n",
       "      <th>status</th>\n",
       "    </tr>\n",
       "  </thead>\n",
       "  <tbody>\n",
       "    <tr>\n",
       "      <th>0</th>\n",
       "      <td>0a446067-ddc9-47e9-8e20-019b718dd28f</td>\n",
       "      <td>DE-6927-empower-raw-to-ids</td>\n",
       "      <td>common</td>\n",
       "      <td>empower-raw-to-ids</td>\n",
       "      <td>v8.1.1</td>\n",
       "      <td>2024-03-07T05:24:35.743Z</td>\n",
       "      <td>enabled</td>\n",
       "    </tr>\n",
       "    <tr>\n",
       "      <th>1</th>\n",
       "      <td>a632c004-4671-46f8-a1c3-b772b17e8ed6</td>\n",
       "      <td>DE-7271-empower-raw-to-ids</td>\n",
       "      <td>common</td>\n",
       "      <td>empower-raw-to-ids</td>\n",
       "      <td>v8.1.1</td>\n",
       "      <td>2024-03-07T05:24:19.153Z</td>\n",
       "      <td>enabled</td>\n",
       "    </tr>\n",
       "  </tbody>\n",
       "</table>\n",
       "</div>"
      ],
      "text/plain": [
       "                                     id                pipelineName namespace   \n",
       "0  0a446067-ddc9-47e9-8e20-019b718dd28f  DE-6927-empower-raw-to-ids    common  \\\n",
       "1  a632c004-4671-46f8-a1c3-b772b17e8ed6  DE-7271-empower-raw-to-ids    common   \n",
       "\n",
       "                 slug version        pipelineLastUpdate   status  \n",
       "0  empower-raw-to-ids  v8.1.1  2024-03-07T05:24:35.743Z  enabled  \n",
       "1  empower-raw-to-ids  v8.1.1  2024-03-07T05:24:19.153Z  enabled  "
      ]
     },
     "execution_count": 8,
     "metadata": {},
     "output_type": "execute_result"
    }
   ],
   "source": [
    "pipeline_df = pd.json_normalize(hits, max_level=1)[PIPELINE_FIELDS].rename(columns=RENAME_FIELDS)\n",
    "pipeline_df[\"status\"] = pipeline_df[\"status\"].fillna(\"enabled\")\n",
    "pipeline_df.head(2)"
   ]
  },
  {
   "cell_type": "markdown",
   "id": "77ea2dd4",
   "metadata": {},
   "source": [
    "## Get Protocol Artifact information\n",
    "\n",
    "We'll next use the `artricats/protcols` enpoint to get the most recent versioning for all protocols.\n",
    "\n",
    "This can be compared versions currently deployed to see which ones are eligible for update."
   ]
  },
  {
   "cell_type": "code",
   "execution_count": 9,
   "id": "876e42f2",
   "metadata": {},
   "outputs": [],
   "source": [
    "protocols_endpoint = \"artifacts/protocols\"\n",
    "url = auth[\"api_url\"] + protocols_endpoint"
   ]
  },
  {
   "cell_type": "code",
   "execution_count": 10,
   "id": "b9225538",
   "metadata": {},
   "outputs": [],
   "source": [
    "latest_protocols = requests.get(\n",
    "    url=url, \n",
    "    params={\"latest_only\": \"true\"}, \n",
    "    headers=headers,\n",
    "    verify=auth[\"verify_ssl\"],\n",
    ").json()"
   ]
  },
  {
   "cell_type": "code",
   "execution_count": 11,
   "id": "c269698d",
   "metadata": {},
   "outputs": [
    {
     "data": {
      "text/plain": [
       "482"
      ]
     },
     "execution_count": 11,
     "metadata": {},
     "output_type": "execute_result"
    }
   ],
   "source": [
    "len(latest_protocols)"
   ]
  },
  {
   "cell_type": "markdown",
   "id": "c0359a44",
   "metadata": {},
   "source": [
    "### Subset on needed info\n",
    "\n",
    "The Protocols endpoint also returns a lot of information. We'll again subset to only get the info we need.\n",
    "\n",
    "- `namespace` - `common`, `client` or `private` depending on how the protocol was deployed\n",
    "- `slug` - The internal unique name for the protocol\n",
    "- `version` - The version we can compare to the latest versions\n",
    "- `name` - The display title for the protocol\n",
    "- `description` - Additional information about the function of the protocol"
   ]
  },
  {
   "cell_type": "code",
   "execution_count": 12,
   "id": "f1b3d540",
   "metadata": {},
   "outputs": [],
   "source": [
    "PROTOCOL_COLUMNS = [\n",
    "    \"namespace\",\n",
    "    \"slug\",\n",
    "    \"version\",\n",
    "    \"name\",\n",
    "    \"description\",\n",
    "]"
   ]
  },
  {
   "cell_type": "code",
   "execution_count": 13,
   "id": "1ad57f7f",
   "metadata": {},
   "outputs": [],
   "source": [
    "protocol_df = pd.json_normalize(latest_protocols)[PROTOCOL_COLUMNS]"
   ]
  },
  {
   "cell_type": "code",
   "execution_count": 14,
   "id": "61ba6f63",
   "metadata": {},
   "outputs": [
    {
     "data": {
      "text/html": [
       "<div>\n",
       "<style scoped>\n",
       "    .dataframe tbody tr th:only-of-type {\n",
       "        vertical-align: middle;\n",
       "    }\n",
       "\n",
       "    .dataframe tbody tr th {\n",
       "        vertical-align: top;\n",
       "    }\n",
       "\n",
       "    .dataframe thead th {\n",
       "        text-align: right;\n",
       "    }\n",
       "</style>\n",
       "<table border=\"1\" class=\"dataframe\">\n",
       "  <thead>\n",
       "    <tr style=\"text-align: right;\">\n",
       "      <th></th>\n",
       "      <th>namespace</th>\n",
       "      <th>slug</th>\n",
       "      <th>version</th>\n",
       "      <th>name</th>\n",
       "      <th>description</th>\n",
       "    </tr>\n",
       "  </thead>\n",
       "  <tbody>\n",
       "    <tr>\n",
       "      <th>0</th>\n",
       "      <td>client-merck</td>\n",
       "      <td>create-empower-ssm-and-send-to-agent</td>\n",
       "      <td>v0.1.0</td>\n",
       "      <td>Create Empower SSM And Send To Agent</td>\n",
       "      <td>Create a SSM to send to Empower</td>\n",
       "    </tr>\n",
       "    <tr>\n",
       "      <th>1</th>\n",
       "      <td>common</td>\n",
       "      <td>thermofisher-xcalibur-raw-to-ids</td>\n",
       "      <td>v4.0.3</td>\n",
       "      <td>Thermo Fisher Xcalibur Raw To IDS</td>\n",
       "      <td>Convert Thermo Fisher Xcalibur RAW files to IDS</td>\n",
       "    </tr>\n",
       "  </tbody>\n",
       "</table>\n",
       "</div>"
      ],
      "text/plain": [
       "      namespace                                  slug version   \n",
       "0  client-merck  create-empower-ssm-and-send-to-agent  v0.1.0  \\\n",
       "1        common      thermofisher-xcalibur-raw-to-ids  v4.0.3   \n",
       "\n",
       "                                   name   \n",
       "0  Create Empower SSM And Send To Agent  \\\n",
       "1     Thermo Fisher Xcalibur Raw To IDS   \n",
       "\n",
       "                                       description  \n",
       "0                  Create a SSM to send to Empower  \n",
       "1  Convert Thermo Fisher Xcalibur RAW files to IDS  "
      ]
     },
     "execution_count": 14,
     "metadata": {},
     "output_type": "execute_result"
    }
   ],
   "source": [
    "protocol_df.head(2)"
   ]
  },
  {
   "cell_type": "markdown",
   "id": "d216e172",
   "metadata": {},
   "source": [
    "### Join the tables\n",
    "\n",
    "We can now perform a left join on the existing pipelines with the protocol information, to add the existing latest version info. We do this by joining where the `slug` and `namespace` values are the same between both tables.\n",
    "\n",
    "Because there are `version` columns in both tables, we'll need to add a suffix to each to help better distinquish these versions.  We've chosen `deployed` for the version used in an existing pipeline, and `latest_protocol` for the latest version we found in the `artifacts` endpoint."
   ]
  },
  {
   "cell_type": "code",
   "execution_count": 15,
   "id": "9d83d2db",
   "metadata": {},
   "outputs": [
    {
     "data": {
      "text/html": [
       "<div>\n",
       "<style scoped>\n",
       "    .dataframe tbody tr th:only-of-type {\n",
       "        vertical-align: middle;\n",
       "    }\n",
       "\n",
       "    .dataframe tbody tr th {\n",
       "        vertical-align: top;\n",
       "    }\n",
       "\n",
       "    .dataframe thead th {\n",
       "        text-align: right;\n",
       "    }\n",
       "</style>\n",
       "<table border=\"1\" class=\"dataframe\">\n",
       "  <thead>\n",
       "    <tr style=\"text-align: right;\">\n",
       "      <th></th>\n",
       "      <th>id</th>\n",
       "      <th>pipelineName</th>\n",
       "      <th>namespace</th>\n",
       "      <th>slug</th>\n",
       "      <th>version_deployed</th>\n",
       "      <th>pipelineLastUpdate</th>\n",
       "      <th>status</th>\n",
       "      <th>version_latest_protocol</th>\n",
       "      <th>name</th>\n",
       "      <th>description</th>\n",
       "    </tr>\n",
       "  </thead>\n",
       "  <tbody>\n",
       "    <tr>\n",
       "      <th>0</th>\n",
       "      <td>0a446067-ddc9-47e9-8e20-019b718dd28f</td>\n",
       "      <td>DE-6927-empower-raw-to-ids</td>\n",
       "      <td>common</td>\n",
       "      <td>empower-raw-to-ids</td>\n",
       "      <td>v8.1.1</td>\n",
       "      <td>2024-03-07T05:24:35.743Z</td>\n",
       "      <td>enabled</td>\n",
       "      <td>v9.0.0</td>\n",
       "      <td>Empower Raw to IDS Protocol</td>\n",
       "      <td>This protocol parses JSON files produced by Em...</td>\n",
       "    </tr>\n",
       "    <tr>\n",
       "      <th>1</th>\n",
       "      <td>a632c004-4671-46f8-a1c3-b772b17e8ed6</td>\n",
       "      <td>DE-7271-empower-raw-to-ids</td>\n",
       "      <td>common</td>\n",
       "      <td>empower-raw-to-ids</td>\n",
       "      <td>v8.1.1</td>\n",
       "      <td>2024-03-07T05:24:19.153Z</td>\n",
       "      <td>enabled</td>\n",
       "      <td>v9.0.0</td>\n",
       "      <td>Empower Raw to IDS Protocol</td>\n",
       "      <td>This protocol parses JSON files produced by Em...</td>\n",
       "    </tr>\n",
       "  </tbody>\n",
       "</table>\n",
       "</div>"
      ],
      "text/plain": [
       "                                     id                pipelineName namespace   \n",
       "0  0a446067-ddc9-47e9-8e20-019b718dd28f  DE-6927-empower-raw-to-ids    common  \\\n",
       "1  a632c004-4671-46f8-a1c3-b772b17e8ed6  DE-7271-empower-raw-to-ids    common   \n",
       "\n",
       "                 slug version_deployed        pipelineLastUpdate   status   \n",
       "0  empower-raw-to-ids           v8.1.1  2024-03-07T05:24:35.743Z  enabled  \\\n",
       "1  empower-raw-to-ids           v8.1.1  2024-03-07T05:24:19.153Z  enabled   \n",
       "\n",
       "  version_latest_protocol                         name   \n",
       "0                  v9.0.0  Empower Raw to IDS Protocol  \\\n",
       "1                  v9.0.0  Empower Raw to IDS Protocol   \n",
       "\n",
       "                                         description  \n",
       "0  This protocol parses JSON files produced by Em...  \n",
       "1  This protocol parses JSON files produced by Em...  "
      ]
     },
     "execution_count": 15,
     "metadata": {},
     "output_type": "execute_result"
    }
   ],
   "source": [
    "result = pd.merge(\n",
    "    pipeline_df,\n",
    "    protocol_df,\n",
    "    how=\"left\",\n",
    "    on=[\"namespace\", \"slug\"],\n",
    "    suffixes=(\"_deployed\", \"_latest_protocol\"),\n",
    ")\n",
    "result.head(2)"
   ]
  },
  {
   "cell_type": "markdown",
   "id": "f8df2ad0",
   "metadata": {},
   "source": [
    "### Filter, reorder, and save\n",
    "\n",
    "Finally we'll query for only rows where the deployed version is not the same as the latest version. We'll then re-order the columns to one that makes a bit more sense for visual inspection.  Then we'll save the output as a CSV for futher inspection and future use."
   ]
  },
  {
   "cell_type": "code",
   "execution_count": 16,
   "id": "73ea91a4",
   "metadata": {},
   "outputs": [
    {
     "data": {
      "text/html": [
       "<div>\n",
       "<style scoped>\n",
       "    .dataframe tbody tr th:only-of-type {\n",
       "        vertical-align: middle;\n",
       "    }\n",
       "\n",
       "    .dataframe tbody tr th {\n",
       "        vertical-align: top;\n",
       "    }\n",
       "\n",
       "    .dataframe thead th {\n",
       "        text-align: right;\n",
       "    }\n",
       "</style>\n",
       "<table border=\"1\" class=\"dataframe\">\n",
       "  <thead>\n",
       "    <tr style=\"text-align: right;\">\n",
       "      <th></th>\n",
       "      <th>id</th>\n",
       "      <th>pipelineName</th>\n",
       "      <th>namespace</th>\n",
       "      <th>slug</th>\n",
       "      <th>version_deployed</th>\n",
       "      <th>version_latest_protocol</th>\n",
       "      <th>name</th>\n",
       "      <th>description</th>\n",
       "      <th>status</th>\n",
       "      <th>pipelineLastUpdate</th>\n",
       "    </tr>\n",
       "  </thead>\n",
       "  <tbody>\n",
       "    <tr>\n",
       "      <th>0</th>\n",
       "      <td>0a446067-ddc9-47e9-8e20-019b718dd28f</td>\n",
       "      <td>DE-6927-empower-raw-to-ids</td>\n",
       "      <td>common</td>\n",
       "      <td>empower-raw-to-ids</td>\n",
       "      <td>v8.1.1</td>\n",
       "      <td>v9.0.0</td>\n",
       "      <td>Empower Raw to IDS Protocol</td>\n",
       "      <td>This protocol parses JSON files produced by Em...</td>\n",
       "      <td>enabled</td>\n",
       "      <td>2024-03-07T05:24:35.743Z</td>\n",
       "    </tr>\n",
       "    <tr>\n",
       "      <th>1</th>\n",
       "      <td>a632c004-4671-46f8-a1c3-b772b17e8ed6</td>\n",
       "      <td>DE-7271-empower-raw-to-ids</td>\n",
       "      <td>common</td>\n",
       "      <td>empower-raw-to-ids</td>\n",
       "      <td>v8.1.1</td>\n",
       "      <td>v9.0.0</td>\n",
       "      <td>Empower Raw to IDS Protocol</td>\n",
       "      <td>This protocol parses JSON files produced by Em...</td>\n",
       "      <td>enabled</td>\n",
       "      <td>2024-03-07T05:24:19.153Z</td>\n",
       "    </tr>\n",
       "    <tr>\n",
       "      <th>2</th>\n",
       "      <td>fdda9dcf-94b6-4eea-b67c-92dad17de803</td>\n",
       "      <td>Empower Protocol v8.0.1 Test</td>\n",
       "      <td>common</td>\n",
       "      <td>empower-raw-to-ids</td>\n",
       "      <td>v8.0.1</td>\n",
       "      <td>v9.0.0</td>\n",
       "      <td>Empower Raw to IDS Protocol</td>\n",
       "      <td>This protocol parses JSON files produced by Em...</td>\n",
       "      <td>enabled</td>\n",
       "      <td>2023-09-12T17:16:03.114Z</td>\n",
       "    </tr>\n",
       "    <tr>\n",
       "      <th>4</th>\n",
       "      <td>647c49db-8a58-4847-9cc9-99f0ee43f2fd</td>\n",
       "      <td>tmp yury test</td>\n",
       "      <td>client-diagnostic</td>\n",
       "      <td>all-in-one</td>\n",
       "      <td>v1.1.0</td>\n",
       "      <td>v2.1.0</td>\n",
       "      <td>All-In-One Diagnostic</td>\n",
       "      <td>A set of tests for a periodical diagnostic</td>\n",
       "      <td>enabled</td>\n",
       "      <td>2023-08-29T13:51:43.847Z</td>\n",
       "    </tr>\n",
       "    <tr>\n",
       "      <th>5</th>\n",
       "      <td>f2fd26ee-71be-405e-a4be-af6a2bce392b</td>\n",
       "      <td>Agilent Chemstation Raw .D to IDS</td>\n",
       "      <td>common</td>\n",
       "      <td>agilent-chemstation-raw-to-ids</td>\n",
       "      <td>v5.0.0</td>\n",
       "      <td>v5.0.1</td>\n",
       "      <td>Agilent Chemstation Raw to IDS</td>\n",
       "      <td>This is a protocol which parses data acquired ...</td>\n",
       "      <td>enabled</td>\n",
       "      <td>2023-08-15T15:58:15.787Z</td>\n",
       "    </tr>\n",
       "  </tbody>\n",
       "</table>\n",
       "</div>"
      ],
      "text/plain": [
       "                                     id                       pipelineName   \n",
       "0  0a446067-ddc9-47e9-8e20-019b718dd28f         DE-6927-empower-raw-to-ids  \\\n",
       "1  a632c004-4671-46f8-a1c3-b772b17e8ed6         DE-7271-empower-raw-to-ids   \n",
       "2  fdda9dcf-94b6-4eea-b67c-92dad17de803       Empower Protocol v8.0.1 Test   \n",
       "4  647c49db-8a58-4847-9cc9-99f0ee43f2fd                      tmp yury test   \n",
       "5  f2fd26ee-71be-405e-a4be-af6a2bce392b  Agilent Chemstation Raw .D to IDS   \n",
       "\n",
       "           namespace                            slug version_deployed   \n",
       "0             common              empower-raw-to-ids           v8.1.1  \\\n",
       "1             common              empower-raw-to-ids           v8.1.1   \n",
       "2             common              empower-raw-to-ids           v8.0.1   \n",
       "4  client-diagnostic                      all-in-one           v1.1.0   \n",
       "5             common  agilent-chemstation-raw-to-ids           v5.0.0   \n",
       "\n",
       "  version_latest_protocol                            name   \n",
       "0                  v9.0.0     Empower Raw to IDS Protocol  \\\n",
       "1                  v9.0.0     Empower Raw to IDS Protocol   \n",
       "2                  v9.0.0     Empower Raw to IDS Protocol   \n",
       "4                  v2.1.0           All-In-One Diagnostic   \n",
       "5                  v5.0.1  Agilent Chemstation Raw to IDS   \n",
       "\n",
       "                                         description   status   \n",
       "0  This protocol parses JSON files produced by Em...  enabled  \\\n",
       "1  This protocol parses JSON files produced by Em...  enabled   \n",
       "2  This protocol parses JSON files produced by Em...  enabled   \n",
       "4         A set of tests for a periodical diagnostic  enabled   \n",
       "5  This is a protocol which parses data acquired ...  enabled   \n",
       "\n",
       "         pipelineLastUpdate  \n",
       "0  2024-03-07T05:24:35.743Z  \n",
       "1  2024-03-07T05:24:19.153Z  \n",
       "2  2023-09-12T17:16:03.114Z  \n",
       "4  2023-08-29T13:51:43.847Z  \n",
       "5  2023-08-15T15:58:15.787Z  "
      ]
     },
     "execution_count": 16,
     "metadata": {},
     "output_type": "execute_result"
    }
   ],
   "source": [
    "DISPLAY_COLUMNS = [\n",
    "    \"id\",\n",
    "    \"pipelineName\",\n",
    "    \"namespace\",\n",
    "    \"slug\",\n",
    "    \"version_deployed\",\n",
    "    \"version_latest_protocol\",\n",
    "    \"name\",\n",
    "    \"description\",\n",
    "    \"status\",\n",
    "    \"pipelineLastUpdate\",\n",
    "]\n",
    "\n",
    "\n",
    "filtered_result = result.query(\"version_deployed != version_latest_protocol\")[DISPLAY_COLUMNS]\n",
    "filtered_result.head(5)"
   ]
  },
  {
   "cell_type": "code",
   "execution_count": 17,
   "id": "765eb3c8",
   "metadata": {},
   "outputs": [],
   "source": [
    "filtered_result.to_csv(\"pipelines_with_available_updates.csv\", index=False)"
   ]
  }
 ],
 "metadata": {
  "kernelspec": {
   "display_name": "Python 3 (ipykernel)",
   "language": "python",
   "name": "python3"
  },
  "language_info": {
   "codemirror_mode": {
    "name": "ipython",
    "version": 3
   },
   "file_extension": ".py",
   "mimetype": "text/x-python",
   "name": "python",
   "nbconvert_exporter": "python",
   "pygments_lexer": "ipython3",
   "version": "3.11.3"
  }
 },
 "nbformat": 4,
 "nbformat_minor": 5
}
