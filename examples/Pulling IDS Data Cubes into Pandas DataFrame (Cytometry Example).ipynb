{
 "cells": [
  {
   "cell_type": "markdown",
   "id": "2dc0666e",
   "metadata": {},
   "source": [
    "# Pulling IDS Data Cubes into Pandas DataFrame (Cytometry Example)"
   ]
  },
  {
   "cell_type": "markdown",
   "id": "1f5af898",
   "metadata": {},
   "source": [
    "## Import Libraries"
   ]
  },
  {
   "cell_type": "code",
   "execution_count": 18,
   "id": "33f8cf88",
   "metadata": {},
   "outputs": [],
   "source": [
    "import os\n",
    "import json\n",
    "import requests\n",
    "import pandas as pd\n",
    "import numpy as np\n",
    "\n",
    "import pprint"
   ]
  },
  {
   "cell_type": "markdown",
   "id": "1e50d773",
   "metadata": {},
   "source": [
    "## Constants for use in Notebook"
   ]
  },
  {
   "cell_type": "code",
   "execution_count": 11,
   "id": "7a982c2b",
   "metadata": {},
   "outputs": [],
   "source": [
    "# Location of authentication file\n",
    "AUTH_DIR = \"./\"\n",
    "AUTH_FILENAME = \"auth.json\""
   ]
  },
  {
   "cell_type": "code",
   "execution_count": 51,
   "id": "0c5c7d96",
   "metadata": {},
   "outputs": [],
   "source": [
    "# APIs used in this notebook\n",
    "BASE_API = \"https://api.tetrascience-uat.com/v1/\"\n",
    "API_EQL_SEARCH = BASE_API + \"datalake/searchEql\"\n",
    "API_RETRIEVE_FILE = BASE_API + \"datalake/retrieve\"\n",
    "API_PIPELINE_INFO = BASE_API + \"pipeline/\"\n",
    "API_PIPELINE_CREATION = BASE_API + \"pipeline/create\"\n",
    "API_FILE_UPLOAD = BASE_API + 'datalake/upload'"
   ]
  },
  {
   "cell_type": "markdown",
   "id": "bd7d2db2",
   "metadata": {},
   "source": [
    "## Pull in Authenication Information for Headers"
   ]
  },
  {
   "cell_type": "code",
   "execution_count": 12,
   "id": "219a53f8",
   "metadata": {},
   "outputs": [],
   "source": [
    "with open(os.path.join(AUTH_DIR, AUTH_FILENAME), \"r\") as f:\n",
    "    auth_data = json.loads(f.read())\n",
    "\n",
    "headers = {\"ts-auth-token\": auth_data[\"auth_token\"],\n",
    "           \"x-org-slug\": auth_data[\"org\"]}"
   ]
  },
  {
   "cell_type": "markdown",
   "id": "7a2fa0b1",
   "metadata": {},
   "source": [
    "## Download example cytometry data"
   ]
  },
  {
   "cell_type": "markdown",
   "id": "bba19264",
   "metadata": {},
   "source": [
    "* Navigate to [flowcytometry.org](flowcytometry.org) to download freely available cytometry datasets for analysis. In particular, navigate to [this dataset](https://flowrepository.org/id/FR-FCM-Z2KP) with data from a study analyzing blood from individuals who had varying levels of COVID-19 (based on [this study](https://www.ncbi.nlm.nih.gov/pmc/articles/PMC7662088/))\n",
    "\n",
    "* Click on the download button, and then on the download page click \"ZIP & Download Files\".\n",
    "\n",
    "* Unzip the file to get a folder full of .fcs files"
   ]
  },
  {
   "cell_type": "code",
   "execution_count": 55,
   "id": "3efe285f",
   "metadata": {},
   "outputs": [],
   "source": [
    "# Location of fcs dataset\n",
    "CYTOMETRY_DIR = \"./\"\n",
    "CYTOMETRY_FOLDER = \"FlowRepository_FR-FCM-Z2KP_files/\""
   ]
  },
  {
   "cell_type": "markdown",
   "id": "532d3ce4",
   "metadata": {},
   "source": [
    "## Create Pipeline to convert Cytometry data to IDS"
   ]
  },
  {
   "cell_type": "code",
   "execution_count": 115,
   "id": "b4ddad1f",
   "metadata": {},
   "outputs": [],
   "source": [
    "# example_response = requests.get(API_PIPELINE_INFO+\"ef3e9b7f-195e-43ff-996b-11bc90b8c367\", headers=headers)\n",
    "# example_response.text"
   ]
  },
  {
   "cell_type": "code",
   "execution_count": 107,
   "id": "9df36211",
   "metadata": {},
   "outputs": [],
   "source": [
    "cytometry_pipeline_info = {'name': 'Example - Create Cytometry Tetra Data',\n",
    "                           'description': 'Transform FCS to IDS',\n",
    "                           'triggerType': 'custom',\n",
    "                           'triggerCondition': {'groupOperator': 'AND',\n",
    "                                                'groupLevel': 1,\n",
    "                                                'groups': [{'groupLevel': 2,\n",
    "                                                            'groupOperator': 'AND',\n",
    "                                                            'groups': [{'key': 'category', \n",
    "                                                                        'operator': 'is', \n",
    "                                                                        'value': 'raw'}]},\n",
    "                                                           {'groupLevel': 2,\n",
    "                                                            'groupOperator': 'AND',\n",
    "                                                            'groups': [{'key': 'tags',\n",
    "                                                                        'operator': 'has a tag that is',\n",
    "                                                                        'value': 'example-cytometry'}]}]},\n",
    "                           'protocolSlug': 'bd-flow-cytometers-raw-to-ids',\n",
    "                           'protocolVersion': 'v1.1.2',\n",
    "                           'masterScriptNamespace': 'common',\n",
    "                           'masterScriptSlug': 'bd-flow-cytometers-raw-to-ids',\n",
    "                           'masterScriptVersion': 'v1.1.2'}"
   ]
  },
  {
   "cell_type": "code",
   "execution_count": 65,
   "id": "c28bc026",
   "metadata": {},
   "outputs": [
    {
     "data": {
      "text/plain": [
       "'{\"id\":\"ef3e9b7f-195e-43ff-996b-11bc90b8c367\",\"name\":\"Example - Create Cytometry Tetra Data\",\"description\":\"Transform FCS to IDS\",\"triggerType\":\"custom\",\"triggerCondition\":{\"groupOperator\":\"AND\",\"groupLevel\":1,\"groups\":[{\"groupLevel\":2,\"groupOperator\":\"AND\",\"groups\":[{\"key\":\"category\",\"operator\":\"is\",\"value\":\"raw\"}]},{\"groupLevel\":2,\"groupOperator\":\"AND\",\"groups\":[{\"key\":\"labels.example\",\"operator\":\"is\",\"value\":\"cytometry\"}]}]},\"protocolSlug\":\"bd-flow-cytometers-raw-to-ids\",\"protocolVersion\":\"v1.1.2\",\"createdAt\":\"2023-07-26T23:55:51.681Z\",\"updatedAt\":\"2023-07-26T23:55:51.681Z\",\"pipelineConfig\":null,\"masterScriptNamespace\":\"common\",\"masterScriptSlug\":\"bd-flow-cytometers-raw-to-ids\",\"masterScriptVersion\":\"v1.1.2\",\"status\":null,\"standby\":null,\"retryBehavior\":null,\"priority\":5,\"maxParallelWorkflows\":0,\"taskScriptTimeoutMins\":null,\"stepsConfig\":{}}'"
      ]
     },
     "execution_count": 65,
     "metadata": {},
     "output_type": "execute_result"
    }
   ],
   "source": [
    "create_cytometry_pipeline = requests.post(API_PIPELINE_CREATION, headers=headers, data=json.dumps(cytometry_pipeline_info))\n",
    "create_cytometry_pipeline.text"
   ]
  },
  {
   "cell_type": "markdown",
   "id": "2bf571df",
   "metadata": {},
   "source": [
    "## Upload Cytometry Data to TDP"
   ]
  },
  {
   "cell_type": "code",
   "execution_count": 57,
   "id": "476d5006",
   "metadata": {},
   "outputs": [
    {
     "data": {
      "text/plain": [
       "['./FlowRepository_FR-FCM-Z2KP_files/export_COVID19 samples 21_04_20_ST3_COVID19_ICU_039_A ST3 210420_051_Live_cells.fcs',\n",
       " './FlowRepository_FR-FCM-Z2KP_files/export_COVID19 samples 23_04_20_ST3_COVID19_W_026_O ST3 230420_003_Live_cells.fcs',\n",
       " './FlowRepository_FR-FCM-Z2KP_files/export_COVID19 samples 23_04_20_ST3_COVID19_W_017_O ST3 230420_026_Live_cells.fcs',\n",
       " './FlowRepository_FR-FCM-Z2KP_files/export_COVID19 samples 23_04_20_ST3_COVID19_ICU_025_A ST3 230420_039_Live_cells.fcs',\n",
       " './FlowRepository_FR-FCM-Z2KP_files/export_COVID19 samples 23_04_20_ST3_COVID19_W_020_O ST3 230420_007_Live_cells.fcs',\n",
       " './FlowRepository_FR-FCM-Z2KP_files/export_COVID19 samples 23_04_20_ST3_COVID19_HC_006 ST3 230420_015_Live_cells.fcs',\n",
       " './FlowRepository_FR-FCM-Z2KP_files/export_COVID19 samples 23_04_20_ST3_COVID19_HC_009 ST3 230420_012_Live_cells.fcs',\n",
       " './FlowRepository_FR-FCM-Z2KP_files/export_COVID19 samples 21_04_20_ST3_COVID19_W_033_O ST3 210420_036_Live_cells.fcs',\n",
       " './FlowRepository_FR-FCM-Z2KP_files/export_COVID19 samples 21_04_20_ST3_COVID19_ICU_027_A ST3 210420_061_Live_cells.fcs',\n",
       " './FlowRepository_FR-FCM-Z2KP_files/export_COVID19 samples 23_04_20_ST3_COVID19_ICU_002_A ST3 230420_052_Live_cells.fcs',\n",
       " './FlowRepository_FR-FCM-Z2KP_files/export_COVID19 samples 23_04_20_ST3_COVID19_HC_008 ST3 230420_013_Live_cells.fcs',\n",
       " './FlowRepository_FR-FCM-Z2KP_files/export_COVID19 samples 21_04_20_ST3_COVID19_ICU_changedW_002_O ST3 210420_043_Live_cells.fcs',\n",
       " './FlowRepository_FR-FCM-Z2KP_files/export_COVID19 samples 23_04_20_ST3_COVID19_HC_007 ST3 230420_014_Live_cells.fcs',\n",
       " './FlowRepository_FR-FCM-Z2KP_files/export_COVID19 samples 23_04_20_ST3_COVID19_W_011_O ST3 230420_032_Live_cells.fcs',\n",
       " './FlowRepository_FR-FCM-Z2KP_files/export_COVID19 samples 21_04_20_ST3_COVID19_ICU_014_A ST3 210420_073_Live_cells.fcs',\n",
       " './FlowRepository_FR-FCM-Z2KP_files/export_COVID19 samples 21_04_20_ST3_COVID19_W_043_O ST3 210420_031_Live_cells.fcs',\n",
       " './FlowRepository_FR-FCM-Z2KP_files/export_COVID19 samples 23_04_20_ST3_COVID19_W_014_O ST3 230420_029_Live_cells.fcs',\n",
       " './FlowRepository_FR-FCM-Z2KP_files/export_COVID19 samples 21_04_20_ST3_COVID19_ICU_005_A ST3 210420_080_Live_cells.fcs',\n",
       " './FlowRepository_FR-FCM-Z2KP_files/export_COVID19 samples 21_04_20_ST3_COVID19_ICU_031_A ST3 210420_055_Live_cells.fcs',\n",
       " './FlowRepository_FR-FCM-Z2KP_files/export_COVID19 samples 23_04_20_ST3_COVID19_W_012_O ST3 230420_031_Live_cells.fcs',\n",
       " './FlowRepository_FR-FCM-Z2KP_files/export_COVID19 samples 23_04_20_ST3_COVID19_HC_001 ST3 230420_017_Live_cells.fcs',\n",
       " './FlowRepository_FR-FCM-Z2KP_files/export_COVID19 samples 23_04_20_ST3_COVID19_ICU_changedW_004_O ST3 230420_036_Live_cells.fcs',\n",
       " './FlowRepository_FR-FCM-Z2KP_files/export_COVID19 samples 23_04_20_ST3_COVID19_W_025_O ST3 230420_004_Live_cells.fcs',\n",
       " './FlowRepository_FR-FCM-Z2KP_files/export_COVID19 samples 23_04_20_ST3_COVID19_HC_005 ST3 230420_016_Live_cells.fcs',\n",
       " './FlowRepository_FR-FCM-Z2KP_files/export_COVID19 samples 23_04_20_ST3_COVID19_W_001_O ST3 230420_037_Live_cells.fcs',\n",
       " './FlowRepository_FR-FCM-Z2KP_files/export_COVID19 samples 23_04_20_ST3_COVID19_W_015_O ST3 230420_028_Live_cells.fcs',\n",
       " './FlowRepository_FR-FCM-Z2KP_files/export_COVID19 samples 21_04_20_ST3_COVID19_ICU_043_A ST3 210420_049_Live_cells.fcs',\n",
       " './FlowRepository_FR-FCM-Z2KP_files/export_COVID19 samples 21_04_20_ST3_COVID19_ICU_015_A ST3 210420_069_Live_cells.fcs',\n",
       " './FlowRepository_FR-FCM-Z2KP_files/export_COVID19 samples 23_04_20_ST3_COVID19_W_024_O ST3 230420_005_Live_cells.fcs',\n",
       " './FlowRepository_FR-FCM-Z2KP_files/export_COVID19 samples 23_04_20_ST3_COVID19_W_022_O ST3 230420_006_Live_cells.fcs',\n",
       " './FlowRepository_FR-FCM-Z2KP_files/export_COVID19 samples 21_04_20_ST3_COVID19_ICU_045_A ST3 210420_045_Live_cells.fcs',\n",
       " './FlowRepository_FR-FCM-Z2KP_files/export_COVID19 samples 23_04_20_ST3_COVID19_ICU_012_A ST3 230420_043_Live_cells.fcs',\n",
       " './FlowRepository_FR-FCM-Z2KP_files/export_COVID19 samples 23_04_20_ST3_COVID19_W_010_O ST3 230420_033_Live_cells.fcs',\n",
       " './FlowRepository_FR-FCM-Z2KP_files/export_COVID19 samples 21_04_20_ST3_COVID19_ICU_029_A ST3 210420_059_Live_cells.fcs',\n",
       " './FlowRepository_FR-FCM-Z2KP_files/export_COVID19 samples 23_04_20_ST3_COVID19_ICU_006_A ST3 230420_046_Live_cells.fcs',\n",
       " './FlowRepository_FR-FCM-Z2KP_files/export_COVID19 samples 23_04_20_ST3_COVID19_W_029_O ST3 230420_002_Live_cells.fcs',\n",
       " './FlowRepository_FR-FCM-Z2KP_files/export_COVID19 samples 23_04_20_ST3_COVID19_ICU_003_A ST3 230420_049_Live_cells.fcs',\n",
       " './FlowRepository_FR-FCM-Z2KP_files/export_COVID19 samples 21_04_20_ST3_COVID19_ICU_013_A ST3 210420_078_Live_cells.fcs',\n",
       " './FlowRepository_FR-FCM-Z2KP_files/export_COVID19 samples 23_04_20_ST3_COVID19_W_048_O ST3 230420_010_Live_cells.fcs',\n",
       " './FlowRepository_FR-FCM-Z2KP_files/export_COVID19 samples 21_04_20_ST3_COVID19_W_042_O ST3 210420_032_Live_cells.fcs',\n",
       " './FlowRepository_FR-FCM-Z2KP_files/export_COVID19 samples 21_04_20_ST3_COVID19_ICU_changedW_027_O ST3 210420_039_Live_cells.fcs',\n",
       " './FlowRepository_FR-FCM-Z2KP_files/export_COVID19 samples 23_04_20_ST3_COVID19_W_046_O ST3 230420_011_Live_cells.fcs',\n",
       " './FlowRepository_FR-FCM-Z2KP_files/export_COVID19 samples 23_04_20_ST3_COVID19_W_018_O ST3 230420_025_Live_cells.fcs',\n",
       " './FlowRepository_FR-FCM-Z2KP_files/export_COVID19 samples 23_04_20_ST3_COVID19_ICU_changedW_049_O ST3 230420_009_Live_cells.fcs',\n",
       " './FlowRepository_FR-FCM-Z2KP_files/export_COVID19 samples 21_04_20_ST3_COVID19_ICU_023_A ST3 210420_064_Live_cells.fcs',\n",
       " './FlowRepository_FR-FCM-Z2KP_files/export_COVID19 samples 21_04_20_ST3_COVID19_ICU_changedW_036_O ST3 210420_035_Live_cells.fcs',\n",
       " './FlowRepository_FR-FCM-Z2KP_files/export_COVID19 samples 21_04_20_ST3_COVID19_ICU_changedW_019_O ST3 210420_040_Live_cells.fcs',\n",
       " './FlowRepository_FR-FCM-Z2KP_files/export_COVID19 samples 21_04_20_ST3_COVID19_ICU_036_A ST3 210420_053_Live_cells.fcs',\n",
       " './FlowRepository_FR-FCM-Z2KP_files/export_COVID19 samples 23_04_20_ST3_COVID19_W_016_O ST3 230420_027_Live_cells.fcs']"
      ]
     },
     "execution_count": 57,
     "metadata": {},
     "output_type": "execute_result"
    }
   ],
   "source": [
    "fcs_files = [CYTOMETRY_DIR + CYTOMETRY_FOLDER + file for file in \n",
    "             os.listdir(os.path.join(CYTOMETRY_DIR, CYTOMETRY_FOLDER)) if \".fcs\" in file]\n",
    "fcs_files"
   ]
  },
  {
   "cell_type": "code",
   "execution_count": 129,
   "id": "e888b539",
   "metadata": {},
   "outputs": [],
   "source": [
    "file_upload_curl = \"curl --location '%s' \\\n",
    "--header 'ts-auth-token: %s' \\\n",
    "--header 'x-org-slug: %s' \\\n",
    "--header 'Content-Transfer-Encoding: multipart/form-data' \\\n",
    "--form 'file=@%s' \\\n",
    "--form 'filename=%s' \\\n",
    "--form labels={'label':'tags','value':'example-cytometry'}\" % (API_FILE_UPLOAD, auth_data[\"auth_token\"], auth_data[\"org\"], fcs_files[0], fcs_files[0])\n",
    "# --form tags=['example-cytometry','api-upload']\" % (API_FILE_UPLOAD, auth_data[\"auth_token\"], auth_data[\"org\"], fcs_files[0], fcs_files[0])"
   ]
  },
  {
   "cell_type": "code",
   "execution_count": 130,
   "id": "00d5f53d",
   "metadata": {},
   "outputs": [
    {
     "name": "stderr",
     "output_type": "stream",
     "text": [
      "  % Total    % Received % Xferd  Average Speed   Time    Time     Time  Current\n",
      "                                 Dload  Upload   Total   Spent    Left  Speed\n",
      " 98 10.5M    0     0   98 10.3M      0   379k  0:00:28  0:00:28 --:--:--  392k"
     ]
    },
    {
     "name": "stdout",
     "output_type": "stream",
     "text": [
      "{\"statusCode\":400,\"error\":\"Bad Request\",\"message\":\"Error validating payload\",\"validations\":[{\"message\":\"\\\"labels\\\" must be an array\",\"path\":[\"labels\"],\"type\":\"array.base\",\"context\":{\"label\":\"labels\",\"value\":\"label:tags\",\"key\":\"labels\"}}]}"
     ]
    },
    {
     "name": "stderr",
     "output_type": "stream",
     "text": [
      "\r",
      "100 10.5M  100   238  100 10.5M      8   373k  0:00:29  0:00:28  0:00:01  355k\r",
      "100 10.5M  100   238  100 10.5M      8   373k  0:00:29  0:00:28  0:00:01  335k\n",
      "curl: (3) URL rejected: Port number was not a decimal number between 0 and 65535\n"
     ]
    },
    {
     "data": {
      "text/plain": [
       "768"
      ]
     },
     "execution_count": 130,
     "metadata": {},
     "output_type": "execute_result"
    }
   ],
   "source": [
    "os.system(file_upload_curl)"
   ]
  },
  {
   "cell_type": "code",
   "execution_count": null,
   "id": "c944c633",
   "metadata": {},
   "outputs": [],
   "source": []
  },
  {
   "cell_type": "markdown",
   "id": "c15588f6",
   "metadata": {},
   "source": [
    "## Find all IDS files created by Pipeline"
   ]
  },
  {
   "cell_type": "code",
   "execution_count": 45,
   "id": "56141fcc",
   "metadata": {},
   "outputs": [],
   "source": [
    "query = {\n",
    "  \"size\": 10000,\n",
    "  \"query\": {\n",
    "    \"bool\": {\n",
    "      \"must\": [\n",
    "        {\n",
    "          \"match\": {\n",
    "            \"integration.id\": \"ef3e9b7f-195e-43ff-996b-11bc90b8c367\"\n",
    "          }\n",
    "        },\n",
    "        {\n",
    "          \"match\": {\n",
    "            \"integration.type\": \"datapipeline\"\n",
    "          }\n",
    "        }\n",
    "      ]\n",
    "    }\n",
    "  }\n",
    "}\n",
    "\n",
    "payload = json.dumps(query)"
   ]
  },
  {
   "cell_type": "code",
   "execution_count": 46,
   "id": "2e906e97",
   "metadata": {},
   "outputs": [],
   "source": [
    "api_call = requests.post(API_EQL_SEARCH, headers=headers, data=payload)"
   ]
  },
  {
   "cell_type": "code",
   "execution_count": 47,
   "id": "d2f60638",
   "metadata": {},
   "outputs": [],
   "source": [
    "results = json.loads(api_call.text)[\"hits\"][\"hits\"]"
   ]
  },
  {
   "cell_type": "code",
   "execution_count": 48,
   "id": "0233720c",
   "metadata": {},
   "outputs": [
    {
     "data": {
      "text/plain": [
       "63"
      ]
     },
     "execution_count": 48,
     "metadata": {},
     "output_type": "execute_result"
    }
   ],
   "source": [
    "len(results)"
   ]
  },
  {
   "cell_type": "code",
   "execution_count": 53,
   "id": "eeadf1c8",
   "metadata": {},
   "outputs": [
    {
     "data": {
      "text/plain": [
       "dict_keys(['_index', '_type', '_id', '_score', '_source'])"
      ]
     },
     "execution_count": 53,
     "metadata": {},
     "output_type": "execute_result"
    }
   ],
   "source": [
    "results[0].keys()"
   ]
  },
  {
   "cell_type": "code",
   "execution_count": 92,
   "id": "1aefe7ff",
   "metadata": {},
   "outputs": [
    {
     "name": "stdout",
     "output_type": "stream",
     "text": [
      "50a756e7-7fd6-46d3-8c9e-82929ed19c02\n"
     ]
    }
   ],
   "source": [
    "testfileid = results[0][\"_source\"][\"fileId\"]\n",
    "print(testfileid)"
   ]
  },
  {
   "cell_type": "code",
   "execution_count": 93,
   "id": "fa5c42fe",
   "metadata": {},
   "outputs": [],
   "source": [
    "api_call = requests.get(API_RETRIEVE_FILE+\"?fileId=\"+testfileid, headers=headers)"
   ]
  },
  {
   "cell_type": "code",
   "execution_count": 95,
   "id": "c56a7a60",
   "metadata": {},
   "outputs": [],
   "source": [
    "IDS_info = json.loads(api_call.text)"
   ]
  },
  {
   "cell_type": "code",
   "execution_count": 130,
   "id": "3e92c85d",
   "metadata": {},
   "outputs": [],
   "source": [
    "data = [np.array(x[\"measures\"][0][\"value\"]) for x in IDS_info[\"datacubes\"]]\n",
    "data = np.vstack(data).T"
   ]
  },
  {
   "cell_type": "code",
   "execution_count": 131,
   "id": "1e78ab77",
   "metadata": {},
   "outputs": [],
   "source": [
    "channels =[x[\"measures\"][0][\"name\"] for x in IDS_info[\"datacubes\"]]"
   ]
  },
  {
   "cell_type": "code",
   "execution_count": 132,
   "id": "0439da5c",
   "metadata": {},
   "outputs": [],
   "source": [
    "time = IDS_info[\"datacubes\"][0][\"dimensions\"][0][\"scale\"]"
   ]
  },
  {
   "cell_type": "code",
   "execution_count": 133,
   "id": "68721c76",
   "metadata": {},
   "outputs": [
    {
     "data": {
      "text/html": [
       "<div>\n",
       "<style scoped>\n",
       "    .dataframe tbody tr th:only-of-type {\n",
       "        vertical-align: middle;\n",
       "    }\n",
       "\n",
       "    .dataframe tbody tr th {\n",
       "        vertical-align: top;\n",
       "    }\n",
       "\n",
       "    .dataframe thead th {\n",
       "        text-align: right;\n",
       "    }\n",
       "</style>\n",
       "<table border=\"1\" class=\"dataframe\">\n",
       "  <thead>\n",
       "    <tr style=\"text-align: right;\">\n",
       "      <th></th>\n",
       "      <th>FSC-A</th>\n",
       "      <th>FSC-H</th>\n",
       "      <th>FSC-W</th>\n",
       "      <th>SSC-A</th>\n",
       "      <th>SSC-H</th>\n",
       "      <th>SSC-W</th>\n",
       "      <th>FJComp-APC-A</th>\n",
       "      <th>FJComp-APC-H7-A</th>\n",
       "      <th>FJComp-APC-R700-A</th>\n",
       "      <th>FJComp-BB630-A</th>\n",
       "      <th>...</th>\n",
       "      <th>FJComp-BV650-A</th>\n",
       "      <th>FJComp-BV711-A</th>\n",
       "      <th>FJComp-BV750-P-A</th>\n",
       "      <th>FJComp-BV786-A</th>\n",
       "      <th>FJComp-BYG584-A</th>\n",
       "      <th>FJComp-BYG670-A</th>\n",
       "      <th>FJComp-BYG790-A</th>\n",
       "      <th>FJComp-FITC-A</th>\n",
       "      <th>FJComp-PE-CF594-A</th>\n",
       "      <th>FJComp-PE-Cy5.5-A</th>\n",
       "    </tr>\n",
       "  </thead>\n",
       "  <tbody>\n",
       "    <tr>\n",
       "      <th>52.559196</th>\n",
       "      <td>75206.484375</td>\n",
       "      <td>60460.769531</td>\n",
       "      <td>145118.531250</td>\n",
       "      <td>38521.203125</td>\n",
       "      <td>35829.363281</td>\n",
       "      <td>109679.476562</td>\n",
       "      <td>-26.279877</td>\n",
       "      <td>37.950542</td>\n",
       "      <td>655.993469</td>\n",
       "      <td>72.333488</td>\n",
       "      <td>...</td>\n",
       "      <td>144.350006</td>\n",
       "      <td>267.332550</td>\n",
       "      <td>-108.974442</td>\n",
       "      <td>241.959930</td>\n",
       "      <td>254.706177</td>\n",
       "      <td>3166.049561</td>\n",
       "      <td>224.191406</td>\n",
       "      <td>799.648376</td>\n",
       "      <td>59.971340</td>\n",
       "      <td>14.986482</td>\n",
       "    </tr>\n",
       "    <tr>\n",
       "      <th>52.626579</th>\n",
       "      <td>78789.265625</td>\n",
       "      <td>65438.390625</td>\n",
       "      <td>151388.531250</td>\n",
       "      <td>33751.750000</td>\n",
       "      <td>31002.316406</td>\n",
       "      <td>107838.789062</td>\n",
       "      <td>3.387179</td>\n",
       "      <td>9.919949</td>\n",
       "      <td>1110.273804</td>\n",
       "      <td>183.456375</td>\n",
       "      <td>...</td>\n",
       "      <td>-142.771408</td>\n",
       "      <td>302.091827</td>\n",
       "      <td>243.083054</td>\n",
       "      <td>27.050117</td>\n",
       "      <td>147.950943</td>\n",
       "      <td>204.697281</td>\n",
       "      <td>254.165543</td>\n",
       "      <td>20.425129</td>\n",
       "      <td>78.229523</td>\n",
       "      <td>53.985115</td>\n",
       "    </tr>\n",
       "    <tr>\n",
       "      <th>52.668690</th>\n",
       "      <td>68122.992188</td>\n",
       "      <td>54291.113281</td>\n",
       "      <td>138201.031250</td>\n",
       "      <td>26363.425781</td>\n",
       "      <td>23826.796875</td>\n",
       "      <td>106964.664062</td>\n",
       "      <td>237.850647</td>\n",
       "      <td>32.161606</td>\n",
       "      <td>1106.962280</td>\n",
       "      <td>78.264000</td>\n",
       "      <td>...</td>\n",
       "      <td>102.678787</td>\n",
       "      <td>360.552826</td>\n",
       "      <td>-58.894714</td>\n",
       "      <td>177.047226</td>\n",
       "      <td>418.391541</td>\n",
       "      <td>1032.096191</td>\n",
       "      <td>385.505310</td>\n",
       "      <td>80.962227</td>\n",
       "      <td>388.802551</td>\n",
       "      <td>85.611320</td>\n",
       "    </tr>\n",
       "    <tr>\n",
       "      <th>52.675362</th>\n",
       "      <td>107050.398438</td>\n",
       "      <td>84495.179688</td>\n",
       "      <td>152318.593750</td>\n",
       "      <td>59341.621094</td>\n",
       "      <td>51996.875000</td>\n",
       "      <td>119945.328125</td>\n",
       "      <td>117.661797</td>\n",
       "      <td>80.853813</td>\n",
       "      <td>1349.825806</td>\n",
       "      <td>348.445007</td>\n",
       "      <td>...</td>\n",
       "      <td>41.150925</td>\n",
       "      <td>231.066788</td>\n",
       "      <td>-21.439489</td>\n",
       "      <td>67.804100</td>\n",
       "      <td>106.157074</td>\n",
       "      <td>294.789581</td>\n",
       "      <td>-36.141533</td>\n",
       "      <td>46.908463</td>\n",
       "      <td>115.888618</td>\n",
       "      <td>162.422791</td>\n",
       "    </tr>\n",
       "    <tr>\n",
       "      <th>52.686203</th>\n",
       "      <td>63816.945312</td>\n",
       "      <td>54338.250000</td>\n",
       "      <td>148976.109375</td>\n",
       "      <td>51197.652344</td>\n",
       "      <td>46842.886719</td>\n",
       "      <td>114617.921875</td>\n",
       "      <td>-15.077876</td>\n",
       "      <td>18.681108</td>\n",
       "      <td>1814.254395</td>\n",
       "      <td>3481.263672</td>\n",
       "      <td>...</td>\n",
       "      <td>976.651184</td>\n",
       "      <td>774.116638</td>\n",
       "      <td>69.086388</td>\n",
       "      <td>131.090851</td>\n",
       "      <td>-109.732552</td>\n",
       "      <td>-112.094185</td>\n",
       "      <td>311.105835</td>\n",
       "      <td>584.948547</td>\n",
       "      <td>-42.293922</td>\n",
       "      <td>212.907364</td>\n",
       "    </tr>\n",
       "    <tr>\n",
       "      <th>...</th>\n",
       "      <td>...</td>\n",
       "      <td>...</td>\n",
       "      <td>...</td>\n",
       "      <td>...</td>\n",
       "      <td>...</td>\n",
       "      <td>...</td>\n",
       "      <td>...</td>\n",
       "      <td>...</td>\n",
       "      <td>...</td>\n",
       "      <td>...</td>\n",
       "      <td>...</td>\n",
       "      <td>...</td>\n",
       "      <td>...</td>\n",
       "      <td>...</td>\n",
       "      <td>...</td>\n",
       "      <td>...</td>\n",
       "      <td>...</td>\n",
       "      <td>...</td>\n",
       "      <td>...</td>\n",
       "      <td>...</td>\n",
       "      <td>...</td>\n",
       "    </tr>\n",
       "    <tr>\n",
       "      <th>187.177399</th>\n",
       "      <td>112839.765625</td>\n",
       "      <td>98341.132812</td>\n",
       "      <td>142445.859375</td>\n",
       "      <td>29081.863281</td>\n",
       "      <td>27505.736328</td>\n",
       "      <td>105076.835938</td>\n",
       "      <td>6.316328</td>\n",
       "      <td>51.644669</td>\n",
       "      <td>942.212097</td>\n",
       "      <td>32.781143</td>\n",
       "      <td>...</td>\n",
       "      <td>174.356812</td>\n",
       "      <td>17.326708</td>\n",
       "      <td>60.387341</td>\n",
       "      <td>-49.492531</td>\n",
       "      <td>445.735321</td>\n",
       "      <td>20.294441</td>\n",
       "      <td>-12.380395</td>\n",
       "      <td>77.997650</td>\n",
       "      <td>230.865921</td>\n",
       "      <td>147.672729</td>\n",
       "    </tr>\n",
       "    <tr>\n",
       "      <th>187.189468</th>\n",
       "      <td>89548.960938</td>\n",
       "      <td>74433.585938</td>\n",
       "      <td>142836.250000</td>\n",
       "      <td>28729.320312</td>\n",
       "      <td>26998.513672</td>\n",
       "      <td>107352.179688</td>\n",
       "      <td>-47.678730</td>\n",
       "      <td>13.358541</td>\n",
       "      <td>964.234131</td>\n",
       "      <td>74.517166</td>\n",
       "      <td>...</td>\n",
       "      <td>18.119425</td>\n",
       "      <td>144.460297</td>\n",
       "      <td>-49.831276</td>\n",
       "      <td>-14.251887</td>\n",
       "      <td>363.565735</td>\n",
       "      <td>42.650570</td>\n",
       "      <td>29.225389</td>\n",
       "      <td>41.909229</td>\n",
       "      <td>-48.261032</td>\n",
       "      <td>96.216087</td>\n",
       "    </tr>\n",
       "    <tr>\n",
       "      <th>187.197693</th>\n",
       "      <td>85100.273438</td>\n",
       "      <td>69878.351562</td>\n",
       "      <td>149342.781250</td>\n",
       "      <td>32437.927734</td>\n",
       "      <td>31116.955078</td>\n",
       "      <td>105052.789062</td>\n",
       "      <td>18.279118</td>\n",
       "      <td>42.405369</td>\n",
       "      <td>701.323181</td>\n",
       "      <td>98.870407</td>\n",
       "      <td>...</td>\n",
       "      <td>172.429169</td>\n",
       "      <td>892.604736</td>\n",
       "      <td>204.954880</td>\n",
       "      <td>-157.672226</td>\n",
       "      <td>217.989502</td>\n",
       "      <td>120.296196</td>\n",
       "      <td>215.177963</td>\n",
       "      <td>206.483566</td>\n",
       "      <td>103.814499</td>\n",
       "      <td>162.783371</td>\n",
       "    </tr>\n",
       "    <tr>\n",
       "      <th>187.208221</th>\n",
       "      <td>87624.460938</td>\n",
       "      <td>72880.015625</td>\n",
       "      <td>145184.968750</td>\n",
       "      <td>48090.003906</td>\n",
       "      <td>46063.785156</td>\n",
       "      <td>111395.398438</td>\n",
       "      <td>78.057076</td>\n",
       "      <td>17.310251</td>\n",
       "      <td>1029.988525</td>\n",
       "      <td>92.421181</td>\n",
       "      <td>...</td>\n",
       "      <td>41.120106</td>\n",
       "      <td>157.431290</td>\n",
       "      <td>224.702728</td>\n",
       "      <td>-38.830032</td>\n",
       "      <td>375.092560</td>\n",
       "      <td>177.576324</td>\n",
       "      <td>407.668121</td>\n",
       "      <td>370.730530</td>\n",
       "      <td>77.303802</td>\n",
       "      <td>-7.522663</td>\n",
       "    </tr>\n",
       "    <tr>\n",
       "      <th>187.322296</th>\n",
       "      <td>90080.554688</td>\n",
       "      <td>71905.859375</td>\n",
       "      <td>147235.515625</td>\n",
       "      <td>32579.212891</td>\n",
       "      <td>30251.289062</td>\n",
       "      <td>108306.460938</td>\n",
       "      <td>-84.208191</td>\n",
       "      <td>32.095558</td>\n",
       "      <td>2303.343994</td>\n",
       "      <td>94.809006</td>\n",
       "      <td>...</td>\n",
       "      <td>20.545349</td>\n",
       "      <td>85.396790</td>\n",
       "      <td>-4.525616</td>\n",
       "      <td>-51.053226</td>\n",
       "      <td>916.165588</td>\n",
       "      <td>112.967834</td>\n",
       "      <td>138.492401</td>\n",
       "      <td>61.112003</td>\n",
       "      <td>157.872681</td>\n",
       "      <td>-24.923250</td>\n",
       "    </tr>\n",
       "  </tbody>\n",
       "</table>\n",
       "<p>2636 rows × 34 columns</p>\n",
       "</div>"
      ],
      "text/plain": [
       "                    FSC-A         FSC-H          FSC-W         SSC-A   \n",
       "52.559196    75206.484375  60460.769531  145118.531250  38521.203125  \\\n",
       "52.626579    78789.265625  65438.390625  151388.531250  33751.750000   \n",
       "52.668690    68122.992188  54291.113281  138201.031250  26363.425781   \n",
       "52.675362   107050.398438  84495.179688  152318.593750  59341.621094   \n",
       "52.686203    63816.945312  54338.250000  148976.109375  51197.652344   \n",
       "...                   ...           ...            ...           ...   \n",
       "187.177399  112839.765625  98341.132812  142445.859375  29081.863281   \n",
       "187.189468   89548.960938  74433.585938  142836.250000  28729.320312   \n",
       "187.197693   85100.273438  69878.351562  149342.781250  32437.927734   \n",
       "187.208221   87624.460938  72880.015625  145184.968750  48090.003906   \n",
       "187.322296   90080.554688  71905.859375  147235.515625  32579.212891   \n",
       "\n",
       "                   SSC-H          SSC-W  FJComp-APC-A  FJComp-APC-H7-A   \n",
       "52.559196   35829.363281  109679.476562    -26.279877        37.950542  \\\n",
       "52.626579   31002.316406  107838.789062      3.387179         9.919949   \n",
       "52.668690   23826.796875  106964.664062    237.850647        32.161606   \n",
       "52.675362   51996.875000  119945.328125    117.661797        80.853813   \n",
       "52.686203   46842.886719  114617.921875    -15.077876        18.681108   \n",
       "...                  ...            ...           ...              ...   \n",
       "187.177399  27505.736328  105076.835938      6.316328        51.644669   \n",
       "187.189468  26998.513672  107352.179688    -47.678730        13.358541   \n",
       "187.197693  31116.955078  105052.789062     18.279118        42.405369   \n",
       "187.208221  46063.785156  111395.398438     78.057076        17.310251   \n",
       "187.322296  30251.289062  108306.460938    -84.208191        32.095558   \n",
       "\n",
       "            FJComp-APC-R700-A  FJComp-BB630-A  ...  FJComp-BV650-A   \n",
       "52.559196          655.993469       72.333488  ...      144.350006  \\\n",
       "52.626579         1110.273804      183.456375  ...     -142.771408   \n",
       "52.668690         1106.962280       78.264000  ...      102.678787   \n",
       "52.675362         1349.825806      348.445007  ...       41.150925   \n",
       "52.686203         1814.254395     3481.263672  ...      976.651184   \n",
       "...                       ...             ...  ...             ...   \n",
       "187.177399         942.212097       32.781143  ...      174.356812   \n",
       "187.189468         964.234131       74.517166  ...       18.119425   \n",
       "187.197693         701.323181       98.870407  ...      172.429169   \n",
       "187.208221        1029.988525       92.421181  ...       41.120106   \n",
       "187.322296        2303.343994       94.809006  ...       20.545349   \n",
       "\n",
       "            FJComp-BV711-A  FJComp-BV750-P-A  FJComp-BV786-A  FJComp-BYG584-A   \n",
       "52.559196       267.332550       -108.974442      241.959930       254.706177  \\\n",
       "52.626579       302.091827        243.083054       27.050117       147.950943   \n",
       "52.668690       360.552826        -58.894714      177.047226       418.391541   \n",
       "52.675362       231.066788        -21.439489       67.804100       106.157074   \n",
       "52.686203       774.116638         69.086388      131.090851      -109.732552   \n",
       "...                    ...               ...             ...              ...   \n",
       "187.177399       17.326708         60.387341      -49.492531       445.735321   \n",
       "187.189468      144.460297        -49.831276      -14.251887       363.565735   \n",
       "187.197693      892.604736        204.954880     -157.672226       217.989502   \n",
       "187.208221      157.431290        224.702728      -38.830032       375.092560   \n",
       "187.322296       85.396790         -4.525616      -51.053226       916.165588   \n",
       "\n",
       "            FJComp-BYG670-A  FJComp-BYG790-A  FJComp-FITC-A   \n",
       "52.559196       3166.049561       224.191406     799.648376  \\\n",
       "52.626579        204.697281       254.165543      20.425129   \n",
       "52.668690       1032.096191       385.505310      80.962227   \n",
       "52.675362        294.789581       -36.141533      46.908463   \n",
       "52.686203       -112.094185       311.105835     584.948547   \n",
       "...                     ...              ...            ...   \n",
       "187.177399        20.294441       -12.380395      77.997650   \n",
       "187.189468        42.650570        29.225389      41.909229   \n",
       "187.197693       120.296196       215.177963     206.483566   \n",
       "187.208221       177.576324       407.668121     370.730530   \n",
       "187.322296       112.967834       138.492401      61.112003   \n",
       "\n",
       "            FJComp-PE-CF594-A  FJComp-PE-Cy5.5-A  \n",
       "52.559196           59.971340          14.986482  \n",
       "52.626579           78.229523          53.985115  \n",
       "52.668690          388.802551          85.611320  \n",
       "52.675362          115.888618         162.422791  \n",
       "52.686203          -42.293922         212.907364  \n",
       "...                       ...                ...  \n",
       "187.177399         230.865921         147.672729  \n",
       "187.189468         -48.261032          96.216087  \n",
       "187.197693         103.814499         162.783371  \n",
       "187.208221          77.303802          -7.522663  \n",
       "187.322296         157.872681         -24.923250  \n",
       "\n",
       "[2636 rows x 34 columns]"
      ]
     },
     "execution_count": 133,
     "metadata": {},
     "output_type": "execute_result"
    }
   ],
   "source": [
    "pd.DataFrame(data, index=time, columns=channels)"
   ]
  },
  {
   "cell_type": "code",
   "execution_count": null,
   "id": "3a625185",
   "metadata": {},
   "outputs": [],
   "source": []
  },
  {
   "cell_type": "markdown",
   "id": "cb85f83e",
   "metadata": {},
   "source": [
    "## References\n",
    "\n",
    "* Spidlen J, Breuer K, Rosenberg C, Kotecha N and Brinkman RR. FlowRepository - A Resource of Annotated Flow Cytometry Datasets Associated with Peer-reviewed Publications. Cytometry A. 2012 Sep; 81(9):727-31\n",
    "* Neumann, J., Prezzemolo, T., Vanderbeke, L., Roca, C. P., Gerbaux, M., Janssens, S., ... & Yserbyt, J. (2020). Increased IL‐10‐producing regulatory T cells are characteristic of severe cases of COVID‐19. Clinical & translational immunology, 9(11), e1204."
   ]
  },
  {
   "cell_type": "code",
   "execution_count": null,
   "id": "3fca7eb4",
   "metadata": {},
   "outputs": [],
   "source": []
  }
 ],
 "metadata": {
  "kernelspec": {
   "display_name": "Python 3 (ipykernel)",
   "language": "python",
   "name": "python3"
  },
  "language_info": {
   "codemirror_mode": {
    "name": "ipython",
    "version": 3
   },
   "file_extension": ".py",
   "mimetype": "text/x-python",
   "name": "python",
   "nbconvert_exporter": "python",
   "pygments_lexer": "ipython3",
   "version": "3.11.2"
  }
 },
 "nbformat": 4,
 "nbformat_minor": 5
}
