{
 "cells": [
  {
   "cell_type": "markdown",
   "id": "2dc0666e",
   "metadata": {},
   "source": [
    "# Pulling IDS Data Cubes into Pandas DataFrame (Cytometry Example)\n",
    "\n",
    "This notebook demonstrates how to use TetraScience's APIs to ingest raw data and make it available in python for data analysis or machine learning. In particular, we demonstrate how to do this with cytometry data.\n",
    "\n",
    "The steps are as follows:\n",
    "* Download example data - here we use cytometry\n",
    "* Create a data pipeline that converts raw instrument files to vendor-neutral Intermediate Data Schema (IDS) - here we use a pipeline that converts cytometry .fcs files\n",
    "* Upload data to TDP (instead of using this file upload API, it is more typical to use TetraScience's [File-Log Agent](https://developers.tetrascience.com/docs/file-log-agent))\n",
    "* Find all IDS data that came from our pipeline\n",
    "* Pull out Data Cubes and put into Pandas DataFrame"
   ]
  },
  {
   "cell_type": "markdown",
   "id": "883e2bca",
   "metadata": {},
   "source": [
    "## Import Libraries"
   ]
  },
  {
   "cell_type": "code",
   "execution_count": null,
   "id": "33f8cf88",
   "metadata": {},
   "outputs": [],
   "source": [
    "import os\n",
    "import json\n",
    "import requests\n",
    "import pandas as pd\n",
    "import numpy as np\n",
    "import matplotlib.pyplot as plt\n",
    "\n",
    "import pprint"
   ]
  },
  {
   "cell_type": "markdown",
   "id": "df5ca7fd",
   "metadata": {},
   "source": [
    "## Constants for use in Notebook"
   ]
  },
  {
   "cell_type": "code",
   "execution_count": null,
   "id": "7a982c2b",
   "metadata": {},
   "outputs": [],
   "source": [
    "# Location of authentication file\n",
    "AUTH_DIR = \"./\"\n",
    "AUTH_FILENAME = \"auth.json\""
   ]
  },
  {
   "cell_type": "code",
   "execution_count": null,
   "id": "0c5c7d96",
   "metadata": {},
   "outputs": [],
   "source": [
    "# APIs used in this notebook\n",
    "BASE_API = \"https://api.tetrascience-uat.com/v1/\"\n",
    "API_EQL_SEARCH = BASE_API + \"datalake/searchEql\"\n",
    "API_RETRIEVE_FILE = BASE_API + \"datalake/retrieve\"\n",
    "API_PIPELINE_INFO = BASE_API + \"pipeline/\"\n",
    "API_PIPELINE_CREATION = BASE_API + \"pipeline/create\"\n",
    "API_FILE_UPLOAD = BASE_API + 'datalake/upload'"
   ]
  },
  {
   "cell_type": "markdown",
   "id": "ee196e20",
   "metadata": {},
   "source": [
    "## Pull in Authenication Information for Headers"
   ]
  },
  {
   "cell_type": "code",
   "execution_count": null,
   "id": "3dd0436f",
   "metadata": {},
   "outputs": [],
   "source": [
    "with open(os.path.join(AUTH_DIR, AUTH_FILENAME), \"r\") as f:\n",
    "    auth_data = json.loads(f.read())\n",
    "\n",
    "headers = {\"ts-auth-token\": auth_data[\"auth_token\"],\n",
    "           \"x-org-slug\": auth_data[\"org\"]}"
   ]
  },
  {
   "cell_type": "markdown",
   "id": "9f915208",
   "metadata": {},
   "source": [
    "## Download example cytometry data"
   ]
  },
  {
   "cell_type": "markdown",
   "id": "9f27dc3b",
   "metadata": {},
   "source": [
    "* Navigate to [flowcytometry.org](flowcytometry.org) to download freely available cytometry datasets for analysis. In particular, navigate to [this dataset](https://flowrepository.org/id/FR-FCM-Z2KP) with data from a study analyzing blood from individuals who had varying levels of COVID-19 (based on [this study](https://www.ncbi.nlm.nih.gov/pmc/articles/PMC7662088/))\n",
    "\n",
    "* Click on the download button, and then on the download page click \"ZIP & Download Files\".\n",
    "\n",
    "* Unzip the file to get a folder full of .fcs files"
   ]
  },
  {
   "cell_type": "code",
   "execution_count": null,
   "id": "55a8f08a",
   "metadata": {},
   "outputs": [],
   "source": [
    "# Location of fcs dataset\n",
    "CYTOMETRY_DIR = \"./\"\n",
    "CYTOMETRY_FOLDER = \"FlowRepository_FR-FCM-Z2KP_files/\""
   ]
  },
  {
   "cell_type": "markdown",
   "id": "a14dc3ce",
   "metadata": {},
   "source": [
    "## Create Pipeline to convert Cytometry data to IDS"
   ]
  },
  {
   "cell_type": "code",
   "execution_count": null,
   "id": "6ceaf2bc",
   "metadata": {},
   "outputs": [],
   "source": [
    "cytometry_pipeline_info = {'name': 'Example - Create Cytometry Tetra Data',\n",
    "                           'description': 'Transform FCS to IDS',\n",
    "                           'triggerType': 'custom',\n",
    "                           'triggerCondition': {'groupOperator': 'AND',\n",
    "                                                'groupLevel': 1,\n",
    "                                                'groups': [{'groupLevel': 2,\n",
    "                                                            'groupOperator': 'AND',\n",
    "                                                            'groups': [{'key': 'category', \n",
    "                                                                        'operator': 'is', \n",
    "                                                                        'value': 'raw'}]},\n",
    "                                                           {'groupLevel': 2,\n",
    "                                                            'groupOperator': 'AND',\n",
    "                                                            'groups': [{'key': 'tags',\n",
    "                                                                        'operator': 'has a tag that is',\n",
    "                                                                        'value': 'example-cytometry'}]}]},\n",
    "                           'protocolSlug': 'bd-flow-cytometers-raw-to-ids',\n",
    "                           'protocolVersion': 'v1.1.2',\n",
    "                           'masterScriptNamespace': 'common',\n",
    "                           'masterScriptSlug': 'bd-flow-cytometers-raw-to-ids',\n",
    "                           'masterScriptVersion': 'v1.1.2'}"
   ]
  },
  {
   "cell_type": "code",
   "execution_count": null,
   "id": "27d5d3bd",
   "metadata": {},
   "outputs": [],
   "source": [
    "### WARNING: Run the commands below one time, as running it multiple times creates duplicate pipelines\n",
    "\n",
    "# create_cytometry_pipeline = requests.post(API_PIPELINE_CREATION, headers=headers, data=json.dumps(cytometry_pipeline_info))\n",
    "# create_cytometry_pipeline.text"
   ]
  },
  {
   "cell_type": "code",
   "execution_count": null,
   "id": "92bccea7",
   "metadata": {},
   "outputs": [],
   "source": [
    "# Save Pipeline ID (from API response above) to a variable:\n",
    "cytometry_pipeline_id = \"\""
   ]
  },
  {
   "cell_type": "markdown",
   "id": "e384ea8d",
   "metadata": {},
   "source": [
    "## Upload Cytometry Data to TDP"
   ]
  },
  {
   "cell_type": "code",
   "execution_count": null,
   "id": "e40a6cb1",
   "metadata": {},
   "outputs": [],
   "source": [
    "fcs_files = [CYTOMETRY_DIR + CYTOMETRY_FOLDER + file for file in \n",
    "             os.listdir(os.path.join(CYTOMETRY_DIR, CYTOMETRY_FOLDER)) if \".fcs\" in file]"
   ]
  },
  {
   "cell_type": "code",
   "execution_count": null,
   "id": "a1f1eeb3",
   "metadata": {},
   "outputs": [],
   "source": [
    "num_raw_files = len(fcs_files)"
   ]
  },
  {
   "cell_type": "code",
   "execution_count": null,
   "id": "dc45fb0a",
   "metadata": {},
   "outputs": [],
   "source": [
    "def upload_file(auth_token, org, filepath, filename, tag):\n",
    "    file_upload_curl = \"curl --location '%s' \\\n",
    "                             --header 'ts-auth-token: %s' \\\n",
    "                             --header 'x-org-slug: %s' \\\n",
    "                             --header 'Content-Transfer-Encoding: multipart/form-data' \\\n",
    "                             --form 'file=@%s' \\\n",
    "                             --form 'filename=%s' \\\n",
    "                             --form 'tags=[\\\"%s\\\"]'\" % (API_FILE_UPLOAD, auth_token, org, filepath, filename, tag)\n",
    "    os.system(file_upload_curl)"
   ]
  },
  {
   "cell_type": "code",
   "execution_count": null,
   "id": "c0b598ab",
   "metadata": {},
   "outputs": [],
   "source": [
    "for fcs_file in fcs_files:\n",
    "    upload_file(auth_data[\"auth_token\"], auth_data[\"org\"],  fcs_file, fcs_file, 'example-cytometry')"
   ]
  },
  {
   "cell_type": "markdown",
   "id": "f2e85148",
   "metadata": {},
   "source": [
    "## Find all IDS files created by Pipeline"
   ]
  },
  {
   "cell_type": "code",
   "execution_count": null,
   "id": "56141fcc",
   "metadata": {},
   "outputs": [],
   "source": [
    "query = {\n",
    "  \"size\": 10000,\n",
    "  \"query\": {\n",
    "    \"bool\": {\n",
    "      \"must\": [\n",
    "        {\n",
    "          \"match\": {\n",
    "            \"integration.id\": cytometry_pipeline_id\n",
    "          }\n",
    "        },\n",
    "        {\n",
    "          \"match\": {\n",
    "            \"integration.type\": \"datapipeline\"\n",
    "          }\n",
    "        }\n",
    "      ]\n",
    "    }\n",
    "  }\n",
    "}\n",
    "\n",
    "payload = json.dumps(query)\n",
    "ids_file_search = requests.post(API_EQL_SEARCH, headers=headers, data=payload)\n",
    "results = json.loads(ids_file_search.text)[\"hits\"][\"hits\"]\n",
    "num_ids_files = len(results)\n",
    "\n",
    "print(\"Checking status of pipeline.\")\n",
    "print(\"Number of Raw Files: %d\" % num_raw_files)\n",
    "print(\"Number of IDS Files: %d\" % num_ids_files)\n",
    "if num_raw_files > num_ids_files:\n",
    "    print(\"Raw files still processing.\")\n",
    "else:\n",
    "    print(\"All files converted.\")"
   ]
  },
  {
   "cell_type": "markdown",
   "id": "d535ea8a",
   "metadata": {},
   "source": [
    "## Pull IDS Data Cube into Pandas DataFrame"
   ]
  },
  {
   "cell_type": "code",
   "execution_count": null,
   "id": "1aefe7ff",
   "metadata": {},
   "outputs": [],
   "source": [
    "first_file_id = results[0][\"_source\"][\"fileId\"]\n",
    "print(first_file_id)"
   ]
  },
  {
   "cell_type": "code",
   "execution_count": null,
   "id": "fa5c42fe",
   "metadata": {},
   "outputs": [],
   "source": [
    "retrieve_file = requests.get(API_RETRIEVE_FILE+\"?fileId=\"+first_file_id, headers=headers)"
   ]
  },
  {
   "cell_type": "code",
   "execution_count": null,
   "id": "c56a7a60",
   "metadata": {},
   "outputs": [],
   "source": [
    "IDS_info = json.loads(retrieve_file.text)"
   ]
  },
  {
   "cell_type": "code",
   "execution_count": null,
   "id": "6ca2e2cb",
   "metadata": {},
   "outputs": [],
   "source": [
    "IDS_info"
   ]
  },
  {
   "cell_type": "code",
   "execution_count": null,
   "id": "3e92c85d",
   "metadata": {},
   "outputs": [],
   "source": [
    "# Pull out the raw data\n",
    "data = [np.array(x[\"measures\"][0][\"value\"]) for x in IDS_info[\"datacubes\"]]\n",
    "data = np.vstack(data).T"
   ]
  },
  {
   "cell_type": "code",
   "execution_count": null,
   "id": "1e78ab77",
   "metadata": {},
   "outputs": [],
   "source": [
    "# Pull out the channel information\n",
    "channels =[x[\"measures\"][0][\"name\"] for x in IDS_info[\"datacubes\"]]"
   ]
  },
  {
   "cell_type": "code",
   "execution_count": null,
   "id": "0439da5c",
   "metadata": {},
   "outputs": [],
   "source": [
    "# Pull out the measurement timings\n",
    "time = IDS_info[\"datacubes\"][0][\"dimensions\"][0][\"scale\"]"
   ]
  },
  {
   "cell_type": "code",
   "execution_count": null,
   "id": "68721c76",
   "metadata": {},
   "outputs": [],
   "source": [
    "# Insert information into Pandas DataFrame\n",
    "cytometry_df = pd.DataFrame(data, index=time, columns=channels)"
   ]
  },
  {
   "cell_type": "code",
   "execution_count": null,
   "id": "3a625185",
   "metadata": {},
   "outputs": [],
   "source": [
    "cytometry_df.head()"
   ]
  },
  {
   "cell_type": "markdown",
   "id": "670dc3b8",
   "metadata": {},
   "source": [
    "## Visualize FSC-H Channel Histogram"
   ]
  },
  {
   "cell_type": "code",
   "execution_count": null,
   "id": "75ed42f5",
   "metadata": {},
   "outputs": [],
   "source": [
    "_ = plt.hist(cytometry_df[\"FSC-H\"], bins=100)"
   ]
  },
  {
   "cell_type": "markdown",
   "id": "a782193f",
   "metadata": {},
   "source": [
    "## References\n",
    "\n",
    "* Spidlen J, Breuer K, Rosenberg C, Kotecha N and Brinkman RR. FlowRepository - A Resource of Annotated Flow Cytometry Datasets Associated with Peer-reviewed Publications. Cytometry A. 2012 Sep; 81(9):727-31\n",
    "* Neumann, J., Prezzemolo, T., Vanderbeke, L., Roca, C. P., Gerbaux, M., Janssens, S., ... & Yserbyt, J. (2020). Increased IL‐10‐producing regulatory T cells are characteristic of severe cases of COVID‐19. Clinical & translational immunology, 9(11), e1204."
   ]
  }
 ],
 "metadata": {
  "kernelspec": {
   "display_name": "Python 3 (ipykernel)",
   "language": "python",
   "name": "python3"
  },
  "language_info": {
   "codemirror_mode": {
    "name": "ipython",
    "version": 3
   },
   "file_extension": ".py",
   "mimetype": "text/x-python",
   "name": "python",
   "nbconvert_exporter": "python",
   "pygments_lexer": "ipython3",
   "version": "3.11.2"
  }
 },
 "nbformat": 4,
 "nbformat_minor": 5
}
