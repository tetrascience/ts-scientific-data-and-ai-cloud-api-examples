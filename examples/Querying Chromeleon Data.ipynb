{
 "cells": [
  {
   "cell_type": "markdown",
   "id": "5fbb5459",
   "metadata": {},
   "source": [
    "# Querying Chromeleon Data"
   ]
  },
  {
   "cell_type": "markdown",
   "id": "d8b25908",
   "metadata": {},
   "source": [
    "## Configure Python Imports\n",
    "\n",
    "In order to run our Notebook, we will need the following libraries:\n",
    "\n",
    "- requests: This library is used to make HTTP Requests to the TDP API\n",
    "- json: Allows us to manipulate files as JSON Objects\n",
    "- pandas: This is a very useful library for storing data in tabular structures\n",
    "- numpy: Open Source Framework for mathematical computation\n",
    "- matplotlib: Library for creating visualizations of your data"
   ]
  },
  {
   "cell_type": "code",
   "execution_count": null,
   "id": "b9307f6e",
   "metadata": {},
   "outputs": [],
   "source": [
    "import requests, json, pandas as pd, numpy as np, matplotlib.pyplot as plt\n",
    "%matplotlib inline"
   ]
  },
  {
   "cell_type": "markdown",
   "id": "4a9140e4",
   "metadata": {},
   "source": [
    "## Configure Connection Variables\n",
    "\n",
    "Create and store information on how to connect to the TDP API"
   ]
  },
  {
   "cell_type": "code",
   "execution_count": null,
   "id": "95c7eaac",
   "metadata": {},
   "outputs": [],
   "source": [
    "api_root = \"\"\n",
    "search_url = api_root + \"/v1/datalake/searchEql\"\n",
    "retrieve_file = api_root + \"/v1/datalake/retrieve\"\n",
    "print(search_url)\n",
    "print(retrieve_file)"
   ]
  },
  {
   "cell_type": "code",
   "execution_count": null,
   "id": "b9abc644",
   "metadata": {},
   "outputs": [],
   "source": [
    "org_slug = \"\"\n",
    "user_token = \"\"\n",
    "headers = {\"x-org-slug\": org_slug, \"ts-auth-token\": user_token}"
   ]
  },
  {
   "cell_type": "markdown",
   "id": "87f6e7d2",
   "metadata": {},
   "source": [
    "## Create Query to Search for All Injections in a Project\n",
    "\n",
    "The TDP API uses ElasticSearch for indexing the Chromeleon Content. This powerful tool allows advanced searching against the data to find the appropriate information based upon your use case(s).\n",
    "\n",
    "In this scenario, we are creating a query to find all of the Chromeleon Data for a specific sequence/folder in a Data Vault.\n",
    "\n",
    "If you want to find all the possible sequences/folders, Navigate in the TetraScience Scientific Data Cloud to the Search File tab. Click on Browse, next to List in the top right. Then navigate down the folder list to find see the sequences.\n",
    "\n",
    "Here we grab all the injections from the project under \"SEQUENCE_NAME.seq\" by searching for all files with a file path that contains the sequence/project/directory name. Change the sequence name to be relevant to your data.\n",
    "\n",
    "We also limit our search by only looking for sequences that have IDSs created by a specific pipeline."
   ]
  },
  {
   "cell_type": "code",
   "execution_count": null,
   "id": "0c4fb0bc",
   "metadata": {},
   "outputs": [],
   "source": [
    "payload = {\n",
    "    \"size\": 200,\n",
    "      \"query\": {\n",
    "          \"bool\": {\n",
    "              \"must\": [\n",
    "                  {\"term\": {\"idsType\": \"thermofisher-chromeleon\"}},\n",
    "                  {\"term\": {\"source.name\": \"PIPELINE_THAT_CREATED_CHROMELEON_IDS\"}},\n",
    "                  {\"wildcard\": {\"file.path\": \"*SEQUENCE_NAME.seq*\"}}\n",
    "                  ]\n",
    "          }\n",
    "      },\n",
    "    \"_source\": [ \"fileId\", \"filePath\", \"labels\"],\n",
    "}"
   ]
  },
  {
   "cell_type": "code",
   "execution_count": null,
   "id": "475f7c0a",
   "metadata": {},
   "outputs": [],
   "source": [
    "payload"
   ]
  },
  {
   "cell_type": "markdown",
   "id": "5b50996d",
   "metadata": {},
   "source": [
    "## Run Search Request and Display Results\n",
    "\n",
    "We will now use the requests library to make a request to the TDP API.  We have previously configured the connection variables as well as the query we are executing."
   ]
  },
  {
   "cell_type": "code",
   "execution_count": null,
   "id": "1d4e348c",
   "metadata": {},
   "outputs": [],
   "source": [
    "request = requests.post(search_url, json=payload, headers=headers)"
   ]
  },
  {
   "cell_type": "code",
   "execution_count": null,
   "id": "cf4cdb54",
   "metadata": {},
   "outputs": [],
   "source": [
    "result = request.json()['hits']['hits']\n",
    "\n",
    "# print the first result to see structure\n",
    "result[0]"
   ]
  },
  {
   "cell_type": "markdown",
   "id": "ff743f09",
   "metadata": {},
   "source": [
    "We can look at all the run names of the sequence by printing the run labels out:"
   ]
  },
  {
   "cell_type": "code",
   "execution_count": null,
   "id": "82a62802",
   "metadata": {},
   "outputs": [],
   "source": [
    "for run in result:\n",
    "  labels = run[\"_source\"][\"labels\"]\n",
    "  run_name = next(item[\"value\"] for item in labels if item[\"name\"] == \"run_name\")\n",
    "  print(run_name)"
   ]
  },
  {
   "cell_type": "markdown",
   "id": "45da4263",
   "metadata": {},
   "source": [
    "If you want to filter on specific runs, you could write code here to do that."
   ]
  },
  {
   "cell_type": "markdown",
   "id": "ec78b2e1",
   "metadata": {},
   "source": [
    "## Retrieve the Amounts of Chemicals in one Sequence"
   ]
  },
  {
   "cell_type": "code",
   "execution_count": null,
   "id": "e5ba086d",
   "metadata": {},
   "outputs": [],
   "source": [
    "first_file_id = result[0][\"_source\"][\"fileId\"]\n",
    "print(first_file_id)"
   ]
  },
  {
   "cell_type": "code",
   "execution_count": null,
   "id": "f2810413",
   "metadata": {},
   "outputs": [],
   "source": [
    "first_file = requests.get(retrieve_file+\"?fileId=\"+first_file_id, headers=headers)"
   ]
  },
  {
   "cell_type": "code",
   "execution_count": null,
   "id": "102f1bbb",
   "metadata": {},
   "outputs": [],
   "source": [
    "IDS_info = json.loads(first_file.text)"
   ]
  },
  {
   "cell_type": "code",
   "execution_count": null,
   "id": "696189e3",
   "metadata": {},
   "outputs": [],
   "source": [
    "peaks = IDS_info[\"results\"][1][\"peaks\"]\n",
    "chemicals = []\n",
    "amounts = []\n",
    "for peak in peaks:\n",
    "  chemicals += [peak[\"name\"][\"value\"]]\n",
    "  amounts += [peak[\"amount\"][\"value\"]]\n",
    "np.vstack([np.array(chemicals), np.array(amounts)]).T"
   ]
  },
  {
   "cell_type": "markdown",
   "id": "058a8472",
   "metadata": {},
   "source": [
    "## Ways to extend this:\n",
    "\n",
    "\n",
    "*   Produce Peak Results table from Chromeleon from Peak data in IDS\n",
    "*   Compare levels of chemical compounds across runs\n",
    "*   Predict unknown chemicals from unknown runs"
   ]
  }
 ],
 "metadata": {
  "kernelspec": {
   "display_name": "Python 3 (ipykernel)",
   "language": "python",
   "name": "python3"
  },
  "language_info": {
   "codemirror_mode": {
    "name": "ipython",
    "version": 3
   },
   "file_extension": ".py",
   "mimetype": "text/x-python",
   "name": "python",
   "nbconvert_exporter": "python",
   "pygments_lexer": "ipython3",
   "version": "3.11.2"
  }
 },
 "nbformat": 4,
 "nbformat_minor": 5
}
