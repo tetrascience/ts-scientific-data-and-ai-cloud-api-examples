{
 "cells": [
  {
   "cell_type": "markdown",
   "id": "99178f99",
   "metadata": {},
   "source": [
    "# Loading Authentication File\n",
    "\n",
    "This notebook shows how to load TDP authentication information created using this process: [Development Setup](https://developers.tetrascience.com/docs/set-up-your-environment-and-initialize-ts-sdk#set-up-the-environment)\n",
    "\n",
    "This authentication file can also be used with our ts-sdk to deploy custom pipelines."
   ]
  },
  {
   "cell_type": "code",
   "execution_count": 1,
   "id": "2d1add48",
   "metadata": {},
   "outputs": [],
   "source": [
    "import os\n",
    "import json\n",
    "import requests"
   ]
  },
  {
   "cell_type": "code",
   "execution_count": null,
   "id": "fa8062ce",
   "metadata": {},
   "outputs": [],
   "source": [
    "SAVE_DIR = \"\"\n",
    "AUTH_FILENAME = \"\"\n",
    "EXAMPLE_API = \"\""
   ]
  },
  {
   "cell_type": "code",
   "execution_count": null,
   "id": "1486598e",
   "metadata": {},
   "outputs": [],
   "source": [
    "with open(os.path.join(SAVE_DIR, AUTH_FILENAME), \"r\") as f:\n",
    "    auth_data = json.loads(f.read())\n",
    "\n",
    "headers = {\"ts-auth-token\": auth_data[\"auth_token\"],\n",
    "           \"x-org-slug\": auth_data[\"org\"]}"
   ]
  },
  {
   "cell_type": "code",
   "execution_count": null,
   "id": "f16f4f8f",
   "metadata": {},
   "outputs": [],
   "source": [
    "example_response = requests.get(EXAMPLE_API, headers=headers)"
   ]
  }
 ],
 "metadata": {
  "kernelspec": {
   "display_name": "Python 3 (ipykernel)",
   "language": "python",
   "name": "python3"
  },
  "language_info": {
   "codemirror_mode": {
    "name": "ipython",
    "version": 3
   },
   "file_extension": ".py",
   "mimetype": "text/x-python",
   "name": "python",
   "nbconvert_exporter": "python",
   "pygments_lexer": "ipython3",
   "version": "3.11.2"
  }
 },
 "nbformat": 4,
 "nbformat_minor": 5
}
