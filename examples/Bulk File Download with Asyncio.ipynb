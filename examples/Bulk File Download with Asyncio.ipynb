{
 "cells": [
  {
   "cell_type": "markdown",
   "metadata": {},
   "source": [
    "# Bulk File Download with Asyncio\n",
    "\n",
    "In this notebook we will guide you through how to leverage asynchronous programming in Python to improve the throughput of downloading files from the datalake/retrieve TDP API for your application through a worked example.\n",
    "\n",
    "Suppose you need to download a collection of files from TDP, identified by a list of TDP fileIds. You can download these files concurrently by using Python’s asynchronous programming methods, allowing for faster retrieval. We will download the files from TDP in two steps. First, we call the datalake/retrieve endpoint to fetch a S3 pre-signed url. Then we will download the file from S3 using the pre-signed url. We take this approach, as it is almost always faster than downloading the file from datalake/retrieve directly. The table below shows the average time taken across 3 runs to download 100 files selected at random from a TetraScience TDP development environment. We see that using a combination of asynchronous programming and the S3 pre-signed URL significantly improves download throughput. The benchmarks with `asyncio` were ran with 25 concurrent connections.\n",
    "\n",
    "| Method | S3 or API | Time [s] |\n",
    "| ------ | --------- | -------- |\n",
    "| Synchronous | API | 58.17 |\n",
    "| Synchronous | S3 | 54.62 |\n",
    "| Async | API | 29.86 |\n",
    "| Async | S3 | 4.08 |"
   ]
  },
  {
   "cell_type": "markdown",
   "metadata": {},
   "source": [
    "## Environment Setup and Authorization\n",
    "\n",
    "We import the libraries we will use, `aiohttp` and `aiohttp-retry`, and set up our authentication headers."
   ]
  },
  {
   "cell_type": "code",
   "execution_count": 11,
   "metadata": {},
   "outputs": [],
   "source": [
    "import asyncio\n",
    "\n",
    "import aiohttp\n",
    "from aiohttp_retry import RetryClient, RandomRetry"
   ]
  },
  {
   "cell_type": "code",
   "execution_count": 21,
   "metadata": {},
   "outputs": [],
   "source": [
    "TDP_BASE_URL = \"https://api.tetrascience.com/v1/\"\n",
    "ORG_SLUG = \"tetrascience\"\n",
    "AUTH_TOKEN = \"\"\n",
    "AUTH_HEADER = {\n",
    "    \"x-org-slug\": ORG_SLUG,\n",
    "    \"ts-auth-token\": AUTH_TOKEN,\n",
    "}"
   ]
  },
  {
   "cell_type": "markdown",
   "metadata": {},
   "source": [
    "## Download functions\n",
    "\n",
    "We define helper functions to retrieve the S3 pre-signed url from the `datalake/retrieve` endpoint, and to download a file form the S3-presigned url."
   ]
  },
  {
   "cell_type": "code",
   "execution_count": 13,
   "metadata": {},
   "outputs": [],
   "source": [
    "async def retrieve_presigned_url(client: aiohttp.ClientSession, file_id: str) -> str:\n",
    "    \"\"\"Retrieve S3 pre-signed url from TDP\n",
    "\n",
    "    Args:\n",
    "        session: aiohttp client session\n",
    "        file_id: TDP file identifier\n",
    "\n",
    "    Returns:\n",
    "        S3 pre-signed url\n",
    "    \"\"\"\n",
    "    url = TDP_BASE_URL + \"datalake/retrieve\"\n",
    "    params = {\"fileId\": file_id, \"getPresigned\": \"true\"}\n",
    "    async with client.get(url, params=params) as response:\n",
    "        contents = await response.json()\n",
    "        return contents[\"url\"]"
   ]
  },
  {
   "cell_type": "code",
   "execution_count": 14,
   "metadata": {},
   "outputs": [],
   "source": [
    "async def download_task(client: aiohttp.ClientSession, file_id: str) -> bytes:\n",
    "    \"\"\"Download a TDP file from S3\n",
    "\n",
    "    Args:\n",
    "        file_id: TDP file id\n",
    "\n",
    "    Returns:\n",
    "        file contents\n",
    "    \"\"\"\n",
    "    url = await retrieve_presigned_url(client, file_id)\n",
    "    async with client.get(url) as response:\n",
    "        return await response.read()"
   ]
  },
  {
   "cell_type": "markdown",
   "metadata": {},
   "source": [
    "## Download Files\n",
    "\n",
    "Finally we can write our function to download a list of files from TDP. There are a few concepts that are worth exploring further in this code snippet.\n",
    "\n",
    "**Session Management**: we create a single HTTP session, the RetryClient, to manage connections for all requests. Under the hood, the client manages a connection pool such that we do not need to create a new connection for every request. To help ourselves not forget to close() the session, we use it as a context manager. We also pass our authentication header to the session, so we don’t need to pass those headers to each request manually.\n",
    "\n",
    "**Error Handling**: Sometimes a request is unsuccessful, for example we could pass a non-existent file ID to the download function, or perhaps the upstream service rate limits your client. When downloading a large number of files concurrently, it is not unlikely to run into some rate limiting responses. When that happens, we want to automatically retry the request after a short period of time instead of throwing an error and aborting our progress. The aiohttp-retry package offers several retry options, here we implement RandomRetry, which retries only failed requests with status code 502 up to 3 times.\n",
    "\n",
    "**Concurrency**: To prevent our client from sending too many requests in a short period of time, we need to limit the number of concurrent requests in flight. More concurrency does not always improve throughput, for example when the network bandwidth is saturated. A limit of 10 concurrent connections is a good place to start."
   ]
  },
  {
   "cell_type": "code",
   "execution_count": 15,
   "metadata": {},
   "outputs": [],
   "source": [
    "async def download_files(file_ids: list[str], concurrency: int):\n",
    "    \"\"\"Download a collection of files from TDP\n",
    "\n",
    "    Args:\n",
    "        file_ids: list of TDP fileIds to download\n",
    "        concurrency: maximum number of concurrent connections\n",
    "\n",
    "    Returns:\n",
    "        A list of file contents\n",
    "    \"\"\"\n",
    "    retry_options = RandomRetry(\n",
    "        attempts=3, statuses=[502], min_timeout=0.1, max_timeout=3\n",
    "    )\n",
    "    conn = aiohttp.TCPConnector(limit=concurrency)\n",
    "\n",
    "    async with RetryClient(\n",
    "        retry_options=retry_options,\n",
    "        headers=AUTH_HEADER,\n",
    "        connector=conn,\n",
    "    ) as client:\n",
    "        tasks = [download_task(client, fid) for fid in file_ids]\n",
    "        return await asyncio.gather(*tasks)\n"
   ]
  },
  {
   "cell_type": "markdown",
   "metadata": {},
   "source": [
    "## Running the Application\n",
    "\n",
    "Finally, we can run the function using asyncio. In the notebook, we can directly `await` the coroutine."
   ]
  },
  {
   "cell_type": "code",
   "execution_count": null,
   "metadata": {},
   "outputs": [],
   "source": [
    "file_ids = [\n",
    "    \"d51abcdc-04fd-40f8-9556-27a7add9a342\",\n",
    "    \"ff807173-587d-40c6-88e7-7ca31522b71b\",\n",
    "    \"eb4f967f-9547-4575-810b-2d263244cd34\",\n",
    "]\n",
    "\n",
    "files = await download_files(file_ids, concurrency=10)"
   ]
  },
  {
   "cell_type": "markdown",
   "metadata": {},
   "source": [
    "However in a Python programme, we need to use asyncio.run to run the download_files function in an event loop, like so:"
   ]
  },
  {
   "cell_type": "code",
   "execution_count": 20,
   "metadata": {},
   "outputs": [],
   "source": [
    "# NB: This will not run in a notebook\n",
    "def main():\n",
    "    file_ids = [\n",
    "        \"d51abcdc-04fd-40f8-9556-27a7add9a342\",\n",
    "        \"ff807173-587d-40c6-88e7-7ca31522b71b\",\n",
    "        \"eb4f967f-9547-4575-810b-2d263244cd34\",\n",
    "    ]\n",
    "\n",
    "    files = asyncio.run(download_files(file_ids, concurrency=10))\n",
    "    return files"
   ]
  }
 ],
 "metadata": {
  "kernelspec": {
   "display_name": ".venv",
   "language": "python",
   "name": "python3"
  },
  "language_info": {
   "codemirror_mode": {
    "name": "ipython",
    "version": 3
   },
   "file_extension": ".py",
   "mimetype": "text/x-python",
   "name": "python",
   "nbconvert_exporter": "python",
   "pygments_lexer": "ipython3",
   "version": "3.12.9"
  }
 },
 "nbformat": 4,
 "nbformat_minor": 2
}
