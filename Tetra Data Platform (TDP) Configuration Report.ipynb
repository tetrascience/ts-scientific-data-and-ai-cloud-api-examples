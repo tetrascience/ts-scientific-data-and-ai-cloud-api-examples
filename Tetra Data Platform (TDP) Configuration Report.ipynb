{
 "cells": [
  {
   "attachments": {},
   "cell_type": "markdown",
   "id": "433e5acb",
   "metadata": {},
   "source": [
    "# Tetra Data Platform (TDP) Configuration Report"
   ]
  },
  {
   "attachments": {},
   "cell_type": "markdown",
   "id": "9df752cc",
   "metadata": {},
   "source": [
    "## Import Statements"
   ]
  },
  {
   "cell_type": "code",
   "execution_count": null,
   "id": "ebc95765",
   "metadata": {},
   "outputs": [],
   "source": [
    "import os\n",
    "import json\n",
    "import requests\n",
    "from datetime import datetime\n",
    "from zoneinfo import ZoneInfo\n",
    "import pandas as pd"
   ]
  },
  {
   "attachments": {},
   "cell_type": "markdown",
   "id": "1ebe7331",
   "metadata": {},
   "source": [
    "## Notebook Parameters\n",
    "\n",
    "* SAVE_DIR = directory on your local machine \n",
    "* API_URL = API URL for your TDP instance\n",
    "* AUTH_TOKEN = personal access token for TDP, or token of Service User\n",
    "* TDP_ORG = organization for configuration report"
   ]
  },
  {
   "cell_type": "code",
   "execution_count": null,
   "id": "cde2d8a9",
   "metadata": {},
   "outputs": [],
   "source": [
    "SAVE_DIR = \"./\"\n",
    "API_URL = \"\"\n",
    "AUTH_TOKEN = \"\"\n",
    "TDP_ORG = \"\""
   ]
  },
  {
   "attachments": {},
   "cell_type": "markdown",
   "id": "19987c8c",
   "metadata": {},
   "source": [
    "## Create Authentication File\n",
    "\n",
    "This uses the notebook parameters to create authentication file, as outlined on documentation site for setting up your development environment: [Development Setup](https://developers.tetrascience.com/docs/set-up-your-environment-and-initialize-ts-sdk#set-up-the-environment)\n",
    "\n",
    "This authentication file can also be used with our ts-sdk to deploy custom pipelines."
   ]
  },
  {
   "cell_type": "code",
   "execution_count": null,
   "id": "f7769502",
   "metadata": {},
   "outputs": [],
   "source": [
    "auth_json_path = os.path.join(SAVE_DIR, \"auth.json\")\n",
    "with open(auth_json_path, \"w\") as f:\n",
    "    auth_json = {\"api_url\": API_URL,\n",
    "                 \"auth_token\": AUTH_TOKEN,\n",
    "                 \"org\": TDP_ORG,\n",
    "                 \"ignore_ssl\": \"false\"}\n",
    "    json.dump(auth_json, f, indent = 4)"
   ]
  },
  {
   "attachments": {},
   "cell_type": "markdown",
   "id": "9a9227b0",
   "metadata": {},
   "source": [
    "## Create filename\n",
    "\n",
    "This uses the current date and time (Pacific time) to document when the configuration was saved. More information about Time Zones in Python can be found [here](https://docs.python.org/3/library/zoneinfo.html)."
   ]
  },
  {
   "cell_type": "code",
   "execution_count": null,
   "id": "f568cd1d",
   "metadata": {},
   "outputs": [],
   "source": [
    "now = datetime.now(ZoneInfo(\"America/Los_Angeles\"))\n",
    "timestamp = now.strftime(\"%Y-%m-%d %H:%M:%S\")\n",
    "savefile_name = os.path.join(SAVE_DIR, now.strftime(\"%Y-%m-%d-%H%M%S\") + \".xlsx\")\n",
    "print(\"savefile_name =\", savefile_name)"
   ]
  },
  {
   "attachments": {},
   "cell_type": "markdown",
   "id": "06f2859a",
   "metadata": {},
   "source": [
    "## Use Authentication File for API Headers"
   ]
  },
  {
   "cell_type": "code",
   "execution_count": null,
   "id": "bfbbb010",
   "metadata": {},
   "outputs": [],
   "source": [
    "with open(auth_json_path, \"r\") as f:\n",
    "    auth_data = json.loads(f.read())\n",
    "\n",
    "headers = {\"ts-auth-token\": auth_data[\"auth_token\"],\n",
    "           \"x-org-slug\": auth_data[\"org\"]}"
   ]
  },
  {
   "attachments": {},
   "cell_type": "markdown",
   "id": "bca751c7",
   "metadata": {},
   "source": [
    "## API Endpoints"
   ]
  },
  {
   "cell_type": "code",
   "execution_count": null,
   "id": "e74fc609",
   "metadata": {},
   "outputs": [],
   "source": [
    "API_URL = auth_data[\"api_url\"]\n",
    "PIPELINE_SEARCH = API_URL + \"pipeline/search\"\n",
    "AGENT_LIST = API_URL + \"agents\""
   ]
  },
  {
   "attachments": {},
   "cell_type": "markdown",
   "id": "915b0140",
   "metadata": {},
   "source": [
    "## Export Info Sheet"
   ]
  },
  {
   "cell_type": "code",
   "execution_count": null,
   "id": "d6c34d00",
   "metadata": {},
   "outputs": [],
   "source": [
    "info_df = pd.DataFrame([timestamp], columns = [\"timestamp\"])"
   ]
  },
  {
   "cell_type": "code",
   "execution_count": null,
   "id": "dd3cf0ea",
   "metadata": {},
   "outputs": [],
   "source": [
    "info_df"
   ]
  },
  {
   "attachments": {},
   "cell_type": "markdown",
   "id": "f1fad526",
   "metadata": {},
   "source": [
    "## Pipeline Configuration Sheet"
   ]
  },
  {
   "cell_type": "code",
   "execution_count": null,
   "id": "f0b7f212",
   "metadata": {},
   "outputs": [],
   "source": [
    "def get_pipeline_page(headers, **kwargs):\n",
    "    \"\"\"\n",
    "        Returns a set of pipelines and whether there are more \n",
    "        pipelines remaining\n",
    "        Optional args: page_size, page_index\n",
    "    \"\"\"\n",
    "    pipeline_api = PIPELINE_SEARCH + \"?\"\n",
    "    if \"index\" in kwargs.keys():\n",
    "        page_index = kwargs[\"index\"]\n",
    "        pipeline_api += \"from=\" + str(page_index) + \"&\"\n",
    "    if \"size\" in kwargs.keys():\n",
    "        page_size = kwargs[\"size\"]\n",
    "        pipeline_api += \"size=\" + str(page_size) + \"&\"\n",
    "\n",
    "    pipeline_response = requests.get(pipeline_api, headers=headers)\n",
    "    pipeline_response = json.loads(pipeline_response.text)\n",
    "    \n",
    "    return pipeline_response[\"hits\"], pipeline_response[\"hasNext\"]"
   ]
  },
  {
   "cell_type": "code",
   "execution_count": null,
   "id": "22c4af5c",
   "metadata": {},
   "outputs": [],
   "source": [
    "def get_all_pipelines(headers, size=10):\n",
    "    \"\"\"\n",
    "        Returns list of all pipelines by iterating over full list\n",
    "        by the size parameter.\n",
    "    \"\"\"\n",
    "    hasNext = True\n",
    "    index = 0\n",
    "    all_pipelines = []\n",
    "    while hasNext == True:\n",
    "        pipes, nxt = get_pipeline_page(headers, size=size, index=index)\n",
    "        all_pipelines += pipes\n",
    "        hasNext = nxt\n",
    "        index += 1\n",
    "    return all_pipelines"
   ]
  },
  {
   "cell_type": "code",
   "execution_count": null,
   "id": "2f91685d",
   "metadata": {},
   "outputs": [],
   "source": [
    "pipeline_list = get_all_pipelines(headers)"
   ]
  },
  {
   "cell_type": "code",
   "execution_count": null,
   "id": "d8f49795",
   "metadata": {},
   "outputs": [],
   "source": [
    "pipeline_top_fields = [\"id\",\n",
    "                        \"name\",\n",
    "                        \"description\",\n",
    "                        \"status\",\n",
    "                        \"triggerCondition\",\n",
    "                        \"maxParallelWorkflows\",\n",
    "                        \"priority\",\n",
    "                        \"retryBehavior\",\n",
    "                        \"protocolSlug\",\n",
    "                        \"protocolVersion\",\n",
    "                        \"createdAt\",\n",
    "                        \"updatedAt\"]"
   ]
  },
  {
   "cell_type": "code",
   "execution_count": null,
   "id": "28164873",
   "metadata": {},
   "outputs": [],
   "source": [
    "def pipeline_summary(pipeline_info, org):\n",
    "    \n",
    "    pipeline_top_vals = [org] + [pipeline_info[x] for x in pipeline_top_fields]\n",
    "    \n",
    "    return pipeline_top_vals"
   ]
  },
  {
   "cell_type": "code",
   "execution_count": null,
   "id": "d6318362",
   "metadata": {},
   "outputs": [],
   "source": [
    "pipeline_summaries = [pipeline_summary(a, TDP_ORG) for a in pipeline_list]"
   ]
  },
  {
   "cell_type": "code",
   "execution_count": null,
   "id": "30368c21",
   "metadata": {},
   "outputs": [],
   "source": [
    "pipeline_df = pd.DataFrame(pipeline_summaries, columns = [\"orgSlug\"] + pipeline_top_fields)"
   ]
  },
  {
   "cell_type": "code",
   "execution_count": null,
   "id": "beeb724f",
   "metadata": {
    "scrolled": true
   },
   "outputs": [],
   "source": [
    "pipeline_df"
   ]
  },
  {
   "attachments": {},
   "cell_type": "markdown",
   "id": "845bfbe0",
   "metadata": {},
   "source": [
    "## Agent Configuration Sheet"
   ]
  },
  {
   "cell_type": "code",
   "execution_count": null,
   "id": "bb8e0a4c",
   "metadata": {},
   "outputs": [],
   "source": [
    "agent_response = requests.get(AGENT_LIST, headers=headers)\n",
    "agent_list = json.loads(agent_response.text)"
   ]
  },
  {
   "cell_type": "code",
   "execution_count": null,
   "id": "1dfc37ac",
   "metadata": {},
   "outputs": [],
   "source": [
    "agent_top_fields = [\"orgSlug\",\n",
    "                    \"name\",\n",
    "                    \"description\",\n",
    "                    \"isEnabled\",\n",
    "                    \"status\",\n",
    "                    \"type\",\n",
    "                    \"liveType\",\n",
    "                    \"integrationType\",\n",
    "                    \"integrationId\",\n",
    "                    \"version\",\n",
    "                    \"tags\",\n",
    "                    \"metadata\"]\n",
    "agent_queue_fields = [\"queue_enabled\"]\n",
    "agent_paths_fields = [\"paths\",\n",
    "                      \"paths_interval\",\n",
    "                      \"paths_labels\",\n",
    "                      \"paths_metadata\",\n",
    "                      \"paths_patterns\",\n",
    "                      \"paths_filewatchmode\"]\n",
    "agent_fields = agent_top_fields + agent_queue_fields + agent_paths_fields"
   ]
  },
  {
   "cell_type": "code",
   "execution_count": null,
   "id": "754f5566",
   "metadata": {},
   "outputs": [],
   "source": [
    "def agent_summary(agent_info):\n",
    "    \n",
    "    agent_top_vals = [agent_info[x] for x in agent_top_fields]\n",
    "    \n",
    "    if agent_info[\"queue\"]:\n",
    "        agent_queue_vals = [agent_info[\"queue\"][\"enabled\"]]\n",
    "    else:\n",
    "        agent_queue_vals = [\"N/A\"]*len(agent_queue_fields)\n",
    "    \n",
    "    if agent_info[\"config\"]:\n",
    "        paths_info = agent_info[\"config\"][\"services_configuration\"][\"fileWatcher\"][\"paths\"]\n",
    "    \n",
    "        agent_subvals = [[x[\"path\"] for x in paths_info],\n",
    "                         [x[\"interval\"] for x in paths_info],\n",
    "                         [x[\"labels\"] for x in paths_info],\n",
    "                         [x[\"metadata\"] for x in paths_info],\n",
    "                         [x[\"patterns\"] for x in paths_info],\n",
    "                         [x[\"file_watch_mode\"] for x in paths_info]]\n",
    "    else:\n",
    "        agent_subvals = [\"N/A\"]*len(agent_paths_fields)\n",
    "    \n",
    "    return agent_top_vals + agent_queue_vals + agent_subvals"
   ]
  },
  {
   "cell_type": "code",
   "execution_count": null,
   "id": "f8dbfd7d",
   "metadata": {},
   "outputs": [],
   "source": [
    "agent_summaries = [agent_summary(a) for a in agent_list]"
   ]
  },
  {
   "cell_type": "code",
   "execution_count": null,
   "id": "a1d31f50",
   "metadata": {},
   "outputs": [],
   "source": [
    "agent_df = pd.DataFrame(agent_summaries, columns = agent_fields)"
   ]
  },
  {
   "cell_type": "code",
   "execution_count": null,
   "id": "e2441f6d",
   "metadata": {
    "scrolled": true
   },
   "outputs": [],
   "source": [
    "agent_df"
   ]
  },
  {
   "attachments": {},
   "cell_type": "markdown",
   "id": "d4afdf04",
   "metadata": {},
   "source": [
    "## Save to Excel"
   ]
  },
  {
   "cell_type": "code",
   "execution_count": null,
   "id": "fb40222e",
   "metadata": {},
   "outputs": [],
   "source": [
    "with pd.ExcelWriter(savefile_name) as writer:\n",
    "    info_df.to_excel(writer, sheet_name='Info')\n",
    "    agent_df.to_excel(writer, sheet_name='Agent Cfg')\n",
    "    pipeline_df.to_excel(writer, sheet_name='Pipeline Cfg')"
   ]
  }
 ],
 "metadata": {
  "kernelspec": {
   "display_name": "Python 3 (ipykernel)",
   "language": "python",
   "name": "python3"
  },
  "language_info": {
   "codemirror_mode": {
    "name": "ipython",
    "version": 3
   },
   "file_extension": ".py",
   "mimetype": "text/x-python",
   "name": "python",
   "nbconvert_exporter": "python",
   "pygments_lexer": "ipython3",
   "version": "3.11.2"
  }
 },
 "nbformat": 4,
 "nbformat_minor": 5
}
